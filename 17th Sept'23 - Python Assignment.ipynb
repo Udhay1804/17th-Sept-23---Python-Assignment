{
 "cells": [
  {
   "cell_type": "markdown",
   "id": "e2bed293-3e27-4552-abba-2f7449cc75f0",
   "metadata": {},
   "source": [
    "For Loop :-"
   ]
  },
  {
   "cell_type": "markdown",
   "id": "05fe818f-6784-448b-81a5-798961735db7",
   "metadata": {},
   "source": [
    "1.Write a Python program to print numbers from 1 to 10 using a for loop."
   ]
  },
  {
   "cell_type": "code",
   "execution_count": 1,
   "id": "8fc368d0-109d-4f1d-8f36-28ee85346464",
   "metadata": {},
   "outputs": [
    {
     "name": "stdout",
     "output_type": "stream",
     "text": [
      "1\n",
      "2\n",
      "3\n",
      "4\n",
      "5\n",
      "6\n",
      "7\n",
      "8\n",
      "9\n",
      "10\n"
     ]
    }
   ],
   "source": [
    "for i in range(1,11):\n",
    "    print(i)"
   ]
  },
  {
   "cell_type": "markdown",
   "id": "1e931378-03c6-43d1-b3c8-34fe6856a61c",
   "metadata": {},
   "source": [
    "2.Explain the difference between a for loop and a while loop in Python."
   ]
  },
  {
   "cell_type": "code",
   "execution_count": 9,
   "id": "9f2b8857-56df-44e5-bb7c-3d66ac33173f",
   "metadata": {},
   "outputs": [
    {
     "name": "stdout",
     "output_type": "stream",
     "text": [
      "2\n",
      "4\n",
      "6\n",
      "8\n",
      "10\n",
      "5\n",
      "4\n",
      "3\n",
      "2\n",
      "1\n"
     ]
    }
   ],
   "source": [
    "'''\n",
    "For Loop:\n",
    "*A for loop is typically used when you know the number of times you want to iterate over a block of code.\n",
    "*It iterates over a sequence (such as a list, tuple, string, or range) and executes the block of code for\n",
    "each item in the sequence.\n",
    "*The loop continues until there are no more items in the sequence.\n",
    "\n",
    "While Loop:\n",
    "*A while loop is used when you want to execute a block of code repeatedly as long as a condition is true.\n",
    "*It keeps iterating until the condition becomes false.\n",
    "'''\n",
    "#example:\n",
    "lst = [1,2,3,4,5]\n",
    "for i in lst:\n",
    "    print(i*2)\n",
    "\n",
    "count = 5\n",
    "while count > 0:\n",
    "    print(count)\n",
    "    count -= 1"
   ]
  },
  {
   "cell_type": "markdown",
   "id": "31dfac38-8abc-48c4-9e34-cd7efa740ed9",
   "metadata": {},
   "source": [
    "3.Write a Python program to calculate the sum of all numbers from 1 to 100 using a for loop."
   ]
  },
  {
   "cell_type": "code",
   "execution_count": 2,
   "id": "ccba5bd9-d661-4df9-b6ee-dc4d7c5bcfd8",
   "metadata": {},
   "outputs": [
    {
     "name": "stdout",
     "output_type": "stream",
     "text": [
      "5050\n"
     ]
    }
   ],
   "source": [
    "sum_num = 0\n",
    "for i in range(1,101):\n",
    "    sum_num += i\n",
    "print(sum_num)"
   ]
  },
  {
   "cell_type": "markdown",
   "id": "25e906e1-ac04-4fb6-941d-03b8a66183f5",
   "metadata": {},
   "source": [
    "4.How do you iterate through a list using a for loop in Python?"
   ]
  },
  {
   "cell_type": "code",
   "execution_count": 10,
   "id": "fea1f97c-71bb-45cd-bb1e-d5773d766614",
   "metadata": {},
   "outputs": [
    {
     "name": "stdout",
     "output_type": "stream",
     "text": [
      "1\n",
      "2\n",
      "3\n",
      "4\n",
      "5\n"
     ]
    }
   ],
   "source": [
    "'''\n",
    "*Use the 'for' keyword followed by a variable name (often called an iterator variable) to represent each element in the list.\n",
    "*Use the 'in' keyword followed by the list to iterate over.\n",
    "'''\n",
    "lst = [1,2,3,4,5]\n",
    "for i in lst:\n",
    "    print(i)"
   ]
  },
  {
   "cell_type": "markdown",
   "id": "241a9560-3ffe-417e-8f52-6d6da0cbfcd9",
   "metadata": {},
   "source": [
    "5.Write a Python program to find the product of all elements in a list using a for loop."
   ]
  },
  {
   "cell_type": "code",
   "execution_count": 2,
   "id": "16e344db-9fc2-4fc8-8620-e839df89f600",
   "metadata": {},
   "outputs": [
    {
     "data": {
      "text/plain": [
       "120"
      ]
     },
     "execution_count": 2,
     "metadata": {},
     "output_type": "execute_result"
    }
   ],
   "source": [
    "def product_num(lis):\n",
    "    product = 1\n",
    "    for i in lis:\n",
    "        product *= i\n",
    "    return product\n",
    "lis = [1,2,3,4,5]\n",
    "product_num(lis)"
   ]
  },
  {
   "cell_type": "markdown",
   "id": "66ae71f9-c303-447b-ae8d-ff47fba32dc6",
   "metadata": {},
   "source": [
    "6.Create a Python program that prints all even numbers from 1 to 20 using a for loop."
   ]
  },
  {
   "cell_type": "code",
   "execution_count": 5,
   "id": "c430ada1-2cb2-4c6b-a29b-3b0580bc3eaa",
   "metadata": {},
   "outputs": [
    {
     "data": {
      "text/plain": [
       "[2, 4, 6, 8, 10, 12, 14, 16, 18, 20]"
      ]
     },
     "execution_count": 5,
     "metadata": {},
     "output_type": "execute_result"
    }
   ],
   "source": [
    "def even(n):\n",
    "    result = []\n",
    "    for i in range(1,n+1):\n",
    "        if i % 2==0:\n",
    "            result.append(i)\n",
    "    return result\n",
    "even(20)"
   ]
  },
  {
   "cell_type": "markdown",
   "id": "aa1cfbe1-1e1a-4c1b-becd-713cb33a491a",
   "metadata": {},
   "source": [
    "7.Write a Python program that calculates the factorial of a number using a for loop."
   ]
  },
  {
   "cell_type": "code",
   "execution_count": 8,
   "id": "6fe1c89b-bbf5-4e08-91a1-a75da3f83db5",
   "metadata": {},
   "outputs": [
    {
     "data": {
      "text/plain": [
       "120"
      ]
     },
     "execution_count": 8,
     "metadata": {},
     "output_type": "execute_result"
    }
   ],
   "source": [
    "def fact(n):\n",
    "    result = 1\n",
    "    for i in range(1,n+1):\n",
    "        result *= i\n",
    "    return result\n",
    "fact(5)"
   ]
  },
  {
   "cell_type": "markdown",
   "id": "802cc920-d752-4c06-a1de-0e5cec8031ed",
   "metadata": {},
   "source": [
    "8.How can you iterate through the characters of a string using a for loop in Python?"
   ]
  },
  {
   "cell_type": "code",
   "execution_count": 11,
   "id": "6e1eb605-c63e-49af-b07a-2f383edc8b72",
   "metadata": {},
   "outputs": [
    {
     "name": "stdout",
     "output_type": "stream",
     "text": [
      "H\n",
      "e\n",
      "l\n",
      "l\n",
      "o\n"
     ]
    }
   ],
   "source": [
    "'''\n",
    "*Iterate through the characters of a string using a for loop in Python by treating the string as a sequence of characters.\n",
    "Here's how you can do it:\n",
    "'''\n",
    "character = 'Hello'\n",
    "for i in character:\n",
    "    print(i)"
   ]
  },
  {
   "cell_type": "markdown",
   "id": "6282b086-52ec-4f52-bb78-a1c017ae71ea",
   "metadata": {},
   "source": [
    "9.Write a Python program to find the largest number in a list using a for loop."
   ]
  },
  {
   "cell_type": "code",
   "execution_count": 19,
   "id": "8bd8565f-bce6-4d2f-b8b6-d316f032267a",
   "metadata": {},
   "outputs": [
    {
     "data": {
      "text/plain": [
       "54"
      ]
     },
     "execution_count": 19,
     "metadata": {},
     "output_type": "execute_result"
    }
   ],
   "source": [
    "def find_max(lis):\n",
    "    liss = lis[0]\n",
    "    for i in lis[1:]:\n",
    "        if i > liss:\n",
    "            liss = i\n",
    "    return liss \n",
    "lis = [1,2,3,54,7,8,9]\n",
    "find_max(lis)"
   ]
  },
  {
   "cell_type": "markdown",
   "id": "75afad65-564b-4daa-a491-6ee7a247fc2a",
   "metadata": {},
   "source": [
    "10.Create a Python program that prints the Fibonacci sequence up to a specified limit using a for loop."
   ]
  },
  {
   "cell_type": "code",
   "execution_count": 24,
   "id": "16d6113a-9757-40f8-be9d-65c8e24acc85",
   "metadata": {},
   "outputs": [
    {
     "data": {
      "text/plain": [
       "[0, 1, 1, 2, 3, 5, 8, 13, 21, 34, 55, 89]"
      ]
     },
     "execution_count": 24,
     "metadata": {},
     "output_type": "execute_result"
    }
   ],
   "source": [
    "def fibo(n):\n",
    "    result = [0,1]\n",
    "    for i in range(1,n+1):\n",
    "        result.append(result[-1]+result[-2])\n",
    "    return result\n",
    "\n",
    "fibo(10)"
   ]
  },
  {
   "cell_type": "markdown",
   "id": "dfcd8b78-5505-4bce-a818-520cafb20933",
   "metadata": {},
   "source": [
    "11.Write a Python program to count the number of vowels in a given string using a for loop."
   ]
  },
  {
   "cell_type": "code",
   "execution_count": 32,
   "id": "4e8bec4e-894b-4130-ac69-aaf3777533c5",
   "metadata": {},
   "outputs": [
    {
     "data": {
      "text/plain": [
       "3"
      ]
     },
     "execution_count": 32,
     "metadata": {},
     "output_type": "execute_result"
    }
   ],
   "source": [
    "def vowels(n):\n",
    "    count = 0\n",
    "    vowels = \"AEIOUaeiou\"\n",
    "    for i in n:\n",
    "        if i in vowels:\n",
    "            count += 1\n",
    "    return count\n",
    "vowels('udaya')"
   ]
  },
  {
   "cell_type": "markdown",
   "id": "71cae1f2-fe82-47f4-9a9b-a0676e95b37d",
   "metadata": {},
   "source": [
    "12.Create a Python program that generates a multiplication table for a given number using a for loop."
   ]
  },
  {
   "cell_type": "code",
   "execution_count": 38,
   "id": "bcd45e8a-c71d-447e-9284-b61963d9b12c",
   "metadata": {},
   "outputs": [
    {
     "name": "stdout",
     "output_type": "stream",
     "text": [
      "1 X 3 = 3\n",
      "2 X 3 = 6\n",
      "3 X 3 = 9\n",
      "4 X 3 = 12\n",
      "5 X 3 = 15\n",
      "6 X 3 = 18\n",
      "7 X 3 = 21\n",
      "8 X 3 = 24\n",
      "9 X 3 = 27\n",
      "10 X 3 = 30\n"
     ]
    }
   ],
   "source": [
    "def tables(n):\n",
    "    for i in range(1,11):\n",
    "        result = (i*n)\n",
    "        print(f'{i} X {n} = {result}')\n",
    "tables(3)"
   ]
  },
  {
   "cell_type": "markdown",
   "id": "76063cfc-fdfe-45c6-9c9f-17c49d5e7b02",
   "metadata": {},
   "source": [
    "13.Write a Python program to reverse a list using a for loop."
   ]
  },
  {
   "cell_type": "code",
   "execution_count": 39,
   "id": "bf71cc1d-7ec3-4b7f-9253-57ec6842edf4",
   "metadata": {},
   "outputs": [
    {
     "name": "stdout",
     "output_type": "stream",
     "text": [
      "[5, 4, 3, 2, 1]\n"
     ]
    }
   ],
   "source": [
    "lis = [1,2,3,4,5]\n",
    "result = []\n",
    "for i in lis[::-1]:\n",
    "    result.append(i)\n",
    "print(result)"
   ]
  },
  {
   "cell_type": "markdown",
   "id": "f7860de6-21a1-4ec0-ba2d-123312fe2419",
   "metadata": {},
   "source": [
    "14.Write a Python program to find the common elements between two lists using a for loop."
   ]
  },
  {
   "cell_type": "code",
   "execution_count": 8,
   "id": "dd9930b8-c109-4890-ab69-8ae12bcead82",
   "metadata": {},
   "outputs": [
    {
     "data": {
      "text/plain": [
       "[1, 2, 9]"
      ]
     },
     "execution_count": 8,
     "metadata": {},
     "output_type": "execute_result"
    }
   ],
   "source": [
    "def common_element(lis1,lis2):\n",
    "    result = []\n",
    "    for i in lis1:\n",
    "        if i in lis2:\n",
    "            result.append(i)\n",
    "    return result\n",
    "lis1 = [1,2,3,4,5,9]\n",
    "lis2 = [1,2,6,7,8,9]\n",
    "common_element(lis1,lis2)"
   ]
  },
  {
   "cell_type": "markdown",
   "id": "35983ca4-65f9-4bb2-b4da-228d11a06ad4",
   "metadata": {},
   "source": [
    "15.Explain how to use a for loop to iterate through the keys and values of a dictionary in Python."
   ]
  },
  {
   "cell_type": "code",
   "execution_count": 12,
   "id": "e44b1927-6e26-4407-8e51-6509a8f317c5",
   "metadata": {},
   "outputs": [
    {
     "name": "stdout",
     "output_type": "stream",
     "text": [
      "Key a = value 1\n",
      "Key b = value 2\n",
      "Key c = value 3\n"
     ]
    }
   ],
   "source": [
    "'''\n",
    "*Use a for loop to iterate through the keys and values of a dictionary in Python by leveraging\n",
    "the .items() method of the dictionary. This method returns a view object that displays a list of a dictionary's \n",
    "key-value pairs as tuples.\n",
    "'''\n",
    "dictionary = {'a':1,'b':2,'c':3}\n",
    "for key,value in dictionary.items():\n",
    "    print(f'Key {key} = value {value}')"
   ]
  },
  {
   "cell_type": "markdown",
   "id": "b9e3ebd1-c8a6-446f-903e-6e4288b04a6c",
   "metadata": {},
   "source": [
    "16.Write a Python program to find the GCD (Greatest Common Divisor) of two numbers using a for loop."
   ]
  },
  {
   "cell_type": "code",
   "execution_count": 13,
   "id": "cac72791-1a6b-4e83-b367-8faed57467ec",
   "metadata": {},
   "outputs": [
    {
     "data": {
      "text/plain": [
       "2"
      ]
     },
     "execution_count": 13,
     "metadata": {},
     "output_type": "execute_result"
    }
   ],
   "source": [
    "def gcd(a,b):\n",
    "    result = []\n",
    "    for i in range(1, min(a,b)+1):\n",
    "        if a % i == 0 and b % i == 0:\n",
    "            result.append(i)\n",
    "    return max(result)\n",
    "gcd(64,18)"
   ]
  },
  {
   "cell_type": "markdown",
   "id": "02b54eec-917a-443b-958f-dec803013519",
   "metadata": {},
   "source": [
    "17.Create a Python program that checks if a string is a palindrome using a for loop."
   ]
  },
  {
   "cell_type": "code",
   "execution_count": 26,
   "id": "7bd8e62f-cb7d-46a9-88f7-7312bb6f9400",
   "metadata": {},
   "outputs": [
    {
     "data": {
      "text/plain": [
       "'palindrome'"
      ]
     },
     "execution_count": 26,
     "metadata": {},
     "output_type": "execute_result"
    }
   ],
   "source": [
    "def is_palindrome(n):\n",
    "    for i in range(len(n)//2):\n",
    "        if n[i] != n[len(n) - i -1]:\n",
    "            return 'not palindrome'\n",
    "    return 'palindrome'\n",
    "\n",
    "is_palindrome('2002')"
   ]
  },
  {
   "cell_type": "markdown",
   "id": "b693c028-83eb-4510-95d6-3cfaf3971311",
   "metadata": {},
   "source": [
    "18.Write a Python program to remove duplicates from a list using a for loop."
   ]
  },
  {
   "cell_type": "code",
   "execution_count": 1,
   "id": "37c852e2-782e-403a-a6e5-36d7ef0d7a79",
   "metadata": {},
   "outputs": [
    {
     "data": {
      "text/plain": [
       "[1, 2, 3, 4, 5, 8, 9]"
      ]
     },
     "execution_count": 1,
     "metadata": {},
     "output_type": "execute_result"
    }
   ],
   "source": [
    "def remove_duplicates(n):\n",
    "    result = []\n",
    "    for i in n:\n",
    "        if i not in result:\n",
    "            result.append(i)\n",
    "    return result\n",
    "\n",
    "x = [1,1,2,2,3,4,5,5,1,8,9]\n",
    "remove_duplicates(x)"
   ]
  },
  {
   "cell_type": "markdown",
   "id": "f0b25769-da32-4db5-b388-4e94c93e354d",
   "metadata": {},
   "source": [
    "19.Create a Python program that counts the number of words in a sentence using a for loop."
   ]
  },
  {
   "cell_type": "code",
   "execution_count": 4,
   "id": "e951004a-c559-429a-b7cf-2a72040c1d5b",
   "metadata": {},
   "outputs": [
    {
     "data": {
      "text/plain": [
       "17"
      ]
     },
     "execution_count": 4,
     "metadata": {},
     "output_type": "execute_result"
    }
   ],
   "source": [
    "def counting_words(n):\n",
    "    count = 0\n",
    "    for i in n:\n",
    "        count += 1\n",
    "    return count\n",
    "\n",
    "x = \"hello how are you\"\n",
    "counting_words(x)"
   ]
  },
  {
   "cell_type": "markdown",
   "id": "9904c0a0-3b91-4c70-a4e6-b07c24f9e8c4",
   "metadata": {},
   "source": [
    "20.Write a Python program to find the sum of all odd numbers from 1 to 50 using a for loop."
   ]
  },
  {
   "cell_type": "code",
   "execution_count": 7,
   "id": "49e9777e-371c-435a-9d2f-7cd3d2aa3b44",
   "metadata": {},
   "outputs": [
    {
     "data": {
      "text/plain": [
       "625"
      ]
     },
     "execution_count": 7,
     "metadata": {},
     "output_type": "execute_result"
    }
   ],
   "source": [
    "def sum_odd(n):\n",
    "    odd_num = []\n",
    "    for i in range(1,n+1):\n",
    "        if i % 2 != 0:\n",
    "            odd_num.append(i)\n",
    "    return sum(odd_num)\n",
    "\n",
    "sum_odd(50)"
   ]
  },
  {
   "cell_type": "markdown",
   "id": "7b49334d-086a-4bff-95a3-929559e699e3",
   "metadata": {},
   "source": [
    "21.Write a Python program that checks if a given year is a leap year using a for loop."
   ]
  },
  {
   "cell_type": "code",
   "execution_count": 17,
   "id": "cdb321ab-b025-4d2c-9392-b8626fdb048d",
   "metadata": {},
   "outputs": [
    {
     "name": "stdin",
     "output_type": "stream",
     "text": [
      "Enter start year, its shows upto 50 years:  1900\n"
     ]
    },
    {
     "name": "stdout",
     "output_type": "stream",
     "text": [
      "Leap year :1904\n",
      "Leap year :1908\n",
      "Leap year :1912\n",
      "Leap year :1916\n",
      "Leap year :1920\n",
      "Leap year :1924\n",
      "Leap year :1928\n",
      "Leap year :1932\n",
      "Leap year :1936\n",
      "Leap year :1940\n",
      "Leap year :1944\n",
      "Leap year :1948\n"
     ]
    }
   ],
   "source": [
    "def is_leap():\n",
    "    year = int(input('Enter start year, its shows upto 50 years: '))\n",
    "    for i in range(year, year+51):\n",
    "        if i % 4 == 0 and i % 100 != 0 or i % 400 ==0:\n",
    "            print(f'Leap year :{i}')\n",
    "is_leap()"
   ]
  },
  {
   "cell_type": "markdown",
   "id": "0dc0e1c5-4c4c-4b29-b9f5-ecb6ab1f0166",
   "metadata": {},
   "source": [
    "22.Create a Python program that calculates the square root of a number using a for loop."
   ]
  },
  {
   "cell_type": "code",
   "execution_count": 24,
   "id": "bcfca7df-7f39-4896-a4a6-453b46964eb1",
   "metadata": {},
   "outputs": [
    {
     "name": "stdin",
     "output_type": "stream",
     "text": [
      "Enter a number:  50\n"
     ]
    },
    {
     "name": "stdout",
     "output_type": "stream",
     "text": [
      "The square root of 50.0 is approximately 7.071\n"
     ]
    }
   ],
   "source": [
    "def square_root(number):\n",
    "    guess = number / 2\n",
    "    iterations = 100\n",
    "    for _ in range(iterations):\n",
    "        guess = (guess + number / guess) / 2\n",
    "    return guess\n",
    "\n",
    "def main():\n",
    "    number = float(input(\"Enter a number: \"))\n",
    "    result = square_root(number)\n",
    "    print(f\"The square root of {number} is approximately {result:.3f}\")\n",
    "\n",
    "if __name__ == \"__main__\":\n",
    "    main()"
   ]
  },
  {
   "cell_type": "markdown",
   "id": "f161572b-891b-4884-8d58-4cd12a98a26d",
   "metadata": {},
   "source": [
    "23.Write a Python program to find the LCM (Least Common Multiple) of two numbers using a for loop."
   ]
  },
  {
   "cell_type": "code",
   "execution_count": 27,
   "id": "c88f04a3-794a-4120-8663-251e008cac08",
   "metadata": {},
   "outputs": [
    {
     "name": "stdin",
     "output_type": "stream",
     "text": [
      "Enter first number:  4\n",
      "Enter second number:  10\n"
     ]
    },
    {
     "name": "stdout",
     "output_type": "stream",
     "text": [
      "The LCM of 4 and 10 is 20\n"
     ]
    }
   ],
   "source": [
    "def find_lcm(x, y):\n",
    "    if x > y:\n",
    "        greater = x\n",
    "    else:\n",
    "        greater = y\n",
    "    lcm = greater\n",
    "    while True:\n",
    "        if lcm % x == 0 and lcm % y == 0:\n",
    "            return lcm\n",
    "        lcm += greater\n",
    "\n",
    "def main():\n",
    "    num1 = int(input(\"Enter first number: \"))\n",
    "    num2 = int(input(\"Enter second number: \"))\n",
    "    lcm = find_lcm(num1, num2)\n",
    "    print(f\"The LCM of {num1} and {num2} is {lcm}\")\n",
    "\n",
    "if __name__ == \"__main__\":\n",
    "    main()\n"
   ]
  },
  {
   "cell_type": "markdown",
   "id": "6672fe24-86e3-4bd8-8d93-989dc858d540",
   "metadata": {},
   "source": [
    "If else :"
   ]
  },
  {
   "cell_type": "markdown",
   "id": "a32f1dcf-d374-4962-985d-bf893e549cca",
   "metadata": {},
   "source": [
    "1.Write a Python program to check if a number is positive, negative, or zero using an if-else statement."
   ]
  },
  {
   "cell_type": "code",
   "execution_count": 10,
   "id": "c88cf1ec-105e-4fca-9142-32cc76de3f85",
   "metadata": {},
   "outputs": [
    {
     "name": "stdout",
     "output_type": "stream",
     "text": [
      "Negetive number\n"
     ]
    }
   ],
   "source": [
    "def check_number(n):\n",
    "    if not isinstance(n, int):\n",
    "        print('Enter a digit')\n",
    "    elif n == 0:\n",
    "        print('Zero')\n",
    "    elif n > 0:\n",
    "        print('Possitive number')\n",
    "    else:\n",
    "        print('Negetive number')\n",
    "check_number(-3)"
   ]
  },
  {
   "cell_type": "markdown",
   "id": "9f7c300a-8582-41b4-a9ca-9df6a2183a5e",
   "metadata": {},
   "source": [
    "2.Create a Python program that checks if a given number is even or odd using an if-else statement."
   ]
  },
  {
   "cell_type": "code",
   "execution_count": 13,
   "id": "92780441-8338-4078-b54b-8e706786b2df",
   "metadata": {},
   "outputs": [
    {
     "name": "stdout",
     "output_type": "stream",
     "text": [
      "Even\n"
     ]
    }
   ],
   "source": [
    "def odd_even(n):\n",
    "    if n % 2 == 0:\n",
    "        print('Even')\n",
    "    else:\n",
    "        print('Odd')\n",
    "odd_even(2)"
   ]
  },
  {
   "cell_type": "markdown",
   "id": "532bb5fe-01df-4c40-bdf5-bdd702b8636f",
   "metadata": {},
   "source": [
    "3.How can you use nested if-else statements in Python, and provide an example?"
   ]
  },
  {
   "cell_type": "code",
   "execution_count": 29,
   "id": "eaecc7f6-139d-442d-9211-1864b799300e",
   "metadata": {},
   "outputs": [
    {
     "data": {
      "text/plain": [
       "'A+'"
      ]
     },
     "execution_count": 29,
     "metadata": {},
     "output_type": "execute_result"
    }
   ],
   "source": [
    "'''\n",
    "*Nested if-else statements in Python allow you to have conditional statements within other conditional statements. \n",
    "This allows for more complex decision-making based on multiple conditions.\n",
    "'''\n",
    "def grade(score):\n",
    "    if score >= 90:\n",
    "        if score >= 95:\n",
    "            return 'A+'\n",
    "        else:\n",
    "            return 'A'\n",
    "    elif score >= 80:\n",
    "        return 'B'\n",
    "    elif score >= 70:\n",
    "        return 'C'\n",
    "    elif score >= 60:\n",
    "        return 'D'\n",
    "    else:\n",
    "        return 'F'\n",
    "grade(99)"
   ]
  },
  {
   "cell_type": "markdown",
   "id": "df675d70-7e21-4805-98c9-c4aa9f6f618c",
   "metadata": {},
   "source": [
    "4.Write a Python program to determine the largest of three numbers using if-else."
   ]
  },
  {
   "cell_type": "code",
   "execution_count": 15,
   "id": "5e5411c4-9e44-4714-b60e-c1659a810249",
   "metadata": {},
   "outputs": [
    {
     "data": {
      "text/plain": [
       "5"
      ]
     },
     "execution_count": 15,
     "metadata": {},
     "output_type": "execute_result"
    }
   ],
   "source": [
    "def large(a,b,c):\n",
    "    if a > b and a > c:\n",
    "        return a\n",
    "    elif b > a and b >c:\n",
    "        return b\n",
    "    else:\n",
    "        return c\n",
    "    \n",
    "large(5,4,-6)"
   ]
  },
  {
   "cell_type": "markdown",
   "id": "a3dd09a1-b0e0-443f-8d3f-e4df8f3c3d8a",
   "metadata": {},
   "source": [
    "5.Write a Python program that calculates the absolute value of a number using if-else."
   ]
  },
  {
   "cell_type": "code",
   "execution_count": 18,
   "id": "ea9e2e5c-6d69-407f-b437-e7d680e05f2b",
   "metadata": {},
   "outputs": [
    {
     "name": "stdin",
     "output_type": "stream",
     "text": [
      "Enter number: -5\n"
     ]
    },
    {
     "data": {
      "text/plain": [
       "5.0"
      ]
     },
     "execution_count": 18,
     "metadata": {},
     "output_type": "execute_result"
    }
   ],
   "source": [
    "def absolute():\n",
    "    num = float(input('Enter number:'))\n",
    "    if num >= 0:\n",
    "        return num\n",
    "    else:\n",
    "        return -num\n",
    "\n",
    "absolute()"
   ]
  },
  {
   "cell_type": "markdown",
   "id": "3579996b-bbf3-4982-ab08-d61398f0d6cf",
   "metadata": {},
   "source": [
    "6.Create a Python program that checks if a given character is a vowel or consonant using if-else."
   ]
  },
  {
   "cell_type": "code",
   "execution_count": 28,
   "id": "8fd454c4-f7d1-488b-b86c-2eebdfa10292",
   "metadata": {},
   "outputs": [
    {
     "name": "stdout",
     "output_type": "stream",
     "text": [
      "Consonant\n"
     ]
    }
   ],
   "source": [
    "def  vowel_or_consonant(n):\n",
    "    if n.isalpha():\n",
    "        if n in 'aeiouAEIOU':\n",
    "            print('Vowel')\n",
    "        else:\n",
    "            print('Consonant')\n",
    "    else:\n",
    "        print('Invalid')\n",
    "\n",
    "vowel_or_consonant('N')"
   ]
  },
  {
   "cell_type": "markdown",
   "id": "fa779951-0ce9-46c9-9cbe-d43b929b260d",
   "metadata": {},
   "source": [
    "7.Write a Python program to determine if a user is eligible to vote based on their age using if-else."
   ]
  },
  {
   "cell_type": "code",
   "execution_count": 1,
   "id": "7f1f364b-4185-44f1-9d07-2b928f875114",
   "metadata": {},
   "outputs": [
    {
     "name": "stdin",
     "output_type": "stream",
     "text": [
      "Enter your age: 18\n"
     ]
    },
    {
     "name": "stdout",
     "output_type": "stream",
     "text": [
      "You are eligible to vote\n"
     ]
    }
   ],
   "source": [
    "def vote_age():\n",
    "    age = int(input('Enter your age:'))\n",
    "    if age >= 18:\n",
    "        print('You are eligible to vote')\n",
    "    else:\n",
    "        print('Under age')\n",
    "        \n",
    "vote_age()"
   ]
  },
  {
   "cell_type": "markdown",
   "id": "3bbdfbba-47a4-4961-baa1-e6ef8f8b9e53",
   "metadata": {},
   "source": [
    "8.Create a Python program that calculates the discount amount based on the purchase amount using if-else."
   ]
  },
  {
   "cell_type": "code",
   "execution_count": 7,
   "id": "0bd99be4-fdd6-4582-9aaf-9bc21887335d",
   "metadata": {},
   "outputs": [
    {
     "name": "stdin",
     "output_type": "stream",
     "text": [
      "Enter price of the product: 1555\n"
     ]
    },
    {
     "name": "stdout",
     "output_type": "stream",
     "text": [
      "dicount is :155.5\n"
     ]
    }
   ],
   "source": [
    "def discount():\n",
    "    price = float(input('Enter price of the product:'))\n",
    "    if price >= 1000:\n",
    "        print(f'dicount is :{price * 0.1}')\n",
    "    elif price >= 500:\n",
    "        print(f'dicount is :{price * 0.05}')\n",
    "    else:\n",
    "        price < 500\n",
    "        print('No discount')\n",
    "        \n",
    "discount()"
   ]
  },
  {
   "cell_type": "markdown",
   "id": "3d2ca486-6ff2-45b2-b103-1695dba1fc9a",
   "metadata": {},
   "source": [
    "9.Write a Python program to check if a number is within a specified range using if-else."
   ]
  },
  {
   "cell_type": "code",
   "execution_count": 13,
   "id": "2fd58c2a-ce20-4ed2-9fc8-8e0182b2d4ff",
   "metadata": {},
   "outputs": [
    {
     "name": "stdin",
     "output_type": "stream",
     "text": [
      "Lowerbound: 1\n",
      "Uperbound: 9\n",
      "Enter a number to check 5\n"
     ]
    },
    {
     "name": "stdout",
     "output_type": "stream",
     "text": [
      "Within range\n"
     ]
    }
   ],
   "source": [
    "def range_check():\n",
    "    a = float(input('Lowerbound:'))\n",
    "    b = float(input('Uperbound:'))\n",
    "    c = float(input('Enter a number to check'))\n",
    "    if a <= c <= b:\n",
    "        print('Within range')\n",
    "    else:\n",
    "        print('Outside of range')\n",
    "range_check()"
   ]
  },
  {
   "cell_type": "markdown",
   "id": "aff8ba8a-df93-4a4b-b1e6-fa9f8e42e121",
   "metadata": {},
   "source": [
    "10.Create a Python program that determines the grade of a student based on their score using if-else."
   ]
  },
  {
   "cell_type": "code",
   "execution_count": 19,
   "id": "c7f04694-c72c-44f3-9b7f-ee1761deb8c6",
   "metadata": {},
   "outputs": [
    {
     "name": "stdin",
     "output_type": "stream",
     "text": [
      "Enter your mark : 20\n"
     ]
    },
    {
     "name": "stdout",
     "output_type": "stream",
     "text": [
      "Fail\n"
     ]
    }
   ],
   "source": [
    "def grade():\n",
    "    mark = int(input('Enter your mark :'))\n",
    "    if mark >= 90:\n",
    "        print('Excellent')\n",
    "    elif 90 > mark >= 80:\n",
    "        print('Good')\n",
    "    elif 80 > mark >= 50:\n",
    "        print('Average')\n",
    "    elif mark <= 50:\n",
    "        print('Fail')\n",
    "    else:\n",
    "        print('invalid')\n",
    "    \n",
    "grade()"
   ]
  },
  {
   "cell_type": "markdown",
   "id": "d07cf373-313b-4993-98db-c5bd29d9eb6e",
   "metadata": {},
   "source": [
    "11.Write a Python program to check if a string is empty or not using if-else."
   ]
  },
  {
   "cell_type": "code",
   "execution_count": 21,
   "id": "45228bd6-3202-4fb7-9766-28a8998ec12a",
   "metadata": {},
   "outputs": [
    {
     "name": "stdout",
     "output_type": "stream",
     "text": [
      "Empty\n"
     ]
    }
   ],
   "source": [
    "def check_empty(n):\n",
    "    if n == \"\":\n",
    "        print('Empty')\n",
    "    else:\n",
    "        print('It has something')\n",
    "    \n",
    "n = ''\n",
    "check_empty(n)"
   ]
  },
  {
   "cell_type": "markdown",
   "id": "2c2bf233-1159-48e4-aa12-fc52781a83fc",
   "metadata": {},
   "source": [
    "12.Create a Python program that identifies the type of a triangle (e.g., equilateral, isosceles, or scalene) based on input values using if-else."
   ]
  },
  {
   "cell_type": "code",
   "execution_count": 1,
   "id": "3b74c49a-0b1c-41b9-a1af-f26107d053b1",
   "metadata": {},
   "outputs": [
    {
     "name": "stdin",
     "output_type": "stream",
     "text": [
      "Enter sides of the trianlge 1: 5\n",
      "Enter sides of the trianlge 2: 5\n",
      "Enter sides of the trianlge 3: 5\n"
     ]
    },
    {
     "name": "stdout",
     "output_type": "stream",
     "text": [
      "equilateral\n"
     ]
    }
   ],
   "source": [
    "def check_triangle():\n",
    "    x = int(input('Enter sides of the trianlge 1:'))\n",
    "    y = int(input('Enter sides of the trianlge 2:'))\n",
    "    z = int(input('Enter sides of the trianlge 3:'))\n",
    "    if x == y == z:\n",
    "        print('equilateral')\n",
    "    elif x == y or x == z or y == z:\n",
    "        print('isosceles')\n",
    "    else:\n",
    "        print('scalene')\n",
    "\n",
    "check_triangle()"
   ]
  },
  {
   "cell_type": "markdown",
   "id": "c72895e8-493c-41ca-879b-2f6164d0d175",
   "metadata": {},
   "source": [
    "13.Write a Python program to determine the day of the week based on a user-provided number using if-else."
   ]
  },
  {
   "cell_type": "code",
   "execution_count": 9,
   "id": "5735ea23-e28f-49c0-95b9-048c5a517bd0",
   "metadata": {},
   "outputs": [
    {
     "name": "stdout",
     "output_type": "stream",
     "text": [
      "Tuesday\n"
     ]
    }
   ],
   "source": [
    "def day_week(day):\n",
    "    if day == 1:\n",
    "        print('Monday')\n",
    "    elif day == 2:\n",
    "        print('Tuesday')\n",
    "    elif day == 3:\n",
    "        print('Wednesday')\n",
    "    elif day == 4:\n",
    "        print('Thursday')\n",
    "    elif day == 5:\n",
    "        print('Friday')\n",
    "    elif day == 6:\n",
    "        print('Saturday')\n",
    "    elif day == 7:\n",
    "        print('SUNDAY')\n",
    "    else:\n",
    "        print('invalid')\n",
    "day = 2\n",
    "day_week(day)"
   ]
  },
  {
   "cell_type": "markdown",
   "id": "91f6ce46-0427-4986-8c92-100a7c439c27",
   "metadata": {},
   "source": [
    "14.Create a Python program that checks if a given year is a leap year using both if-else and a function."
   ]
  },
  {
   "cell_type": "code",
   "execution_count": 5,
   "id": "1088f16a-743d-4364-9c57-cf083f54b484",
   "metadata": {},
   "outputs": [
    {
     "name": "stdin",
     "output_type": "stream",
     "text": [
      "Enter year to check leap or not 2024\n"
     ]
    },
    {
     "name": "stdout",
     "output_type": "stream",
     "text": [
      "Its a leap year\n"
     ]
    }
   ],
   "source": [
    "def is_leap(year):\n",
    "    if (year % 4 == 0 and year % 100 != 0) or year % 400 == 0:\n",
    "        return True\n",
    "    else:\n",
    "        return False\n",
    "def main():\n",
    "    year = int(input('Enter year to check leap or not'))\n",
    "    if is_leap(year):\n",
    "        print('Its a leap year')\n",
    "    else:\n",
    "        print('Not a leap year')\n",
    "\n",
    "if __name__ == \"__main__\":\n",
    "    main()"
   ]
  },
  {
   "cell_type": "markdown",
   "id": "763a7540-57c1-4c72-99b6-4277b5d2c2cb",
   "metadata": {},
   "source": [
    "15.How do you use the \"assert\" statement in Python to add debugging checks within if-else blocks?"
   ]
  },
  {
   "cell_type": "code",
   "execution_count": 33,
   "id": "e39652fd-6d77-4545-acf9-602481076d34",
   "metadata": {},
   "outputs": [
    {
     "name": "stdin",
     "output_type": "stream",
     "text": [
      "Enter your age:  -1\n"
     ]
    },
    {
     "name": "stdout",
     "output_type": "stream",
     "text": [
      "Invalid age entered.\n"
     ]
    }
   ],
   "source": [
    "'''\n",
    "*The 'assert' statement is used to add debugging checks within your code. It helps you ensure that\n",
    "certain conditions are true during the execution of your program. \n",
    "If an assert statement evaluates to False, it raises an AssertionError exception, \n",
    "indicating that there is a problem in your code.\n",
    "*The 'assert' statements within if-else blocks to verify conditions and trigger an error if the condition is not met.\n",
    "'''\n",
    "#Example\n",
    "def check_age(age):\n",
    "    assert age >= 0, \"Age must be a non-negative number.\"\n",
    "    assert age < 120, \"Age must be less than 120.\"\n",
    "    return f\"The age {age} is valid.\"\n",
    "age = int(input(\"Enter your age: \"))\n",
    "if age >= 0 and age < 120:\n",
    "    print(check_age(age))\n",
    "else:\n",
    "    print(\"Invalid age entered.\")"
   ]
  },
  {
   "cell_type": "markdown",
   "id": "be44a0a9-f218-410d-b355-ba111a1ae093",
   "metadata": {},
   "source": [
    "16.Create a Python program that determines the eligibility of a person for a senior citizen discount based on age using if-else."
   ]
  },
  {
   "cell_type": "code",
   "execution_count": 6,
   "id": "09c6a9a8-f656-4f83-ab39-f605c1c136fb",
   "metadata": {},
   "outputs": [
    {
     "name": "stdout",
     "output_type": "stream",
     "text": [
      "Eligible for senior citizenship\n"
     ]
    }
   ],
   "source": [
    "def senior_eligibility(age):\n",
    "    if age >= 60:\n",
    "        print('Eligible for senior citizenship')\n",
    "    else:\n",
    "        print('Not eligible')\n",
    "        \n",
    "senior_eligibility(61)"
   ]
  },
  {
   "cell_type": "markdown",
   "id": "60fc9eb5-91dd-4dc8-a052-e95260bec05d",
   "metadata": {},
   "source": [
    "17.Write a Python program to categorize a given character as uppercase, lowercase, or neither using if-else."
   ]
  },
  {
   "cell_type": "code",
   "execution_count": 3,
   "id": "4dac4e48-4314-4c12-bb8f-a3be78618d0d",
   "metadata": {},
   "outputs": [
    {
     "name": "stdout",
     "output_type": "stream",
     "text": [
      "Its both\n"
     ]
    }
   ],
   "source": [
    "def test(char):\n",
    "    if char.isupper():\n",
    "        print('Uppercase')\n",
    "    elif char.islower():\n",
    "        print('Lowercase')\n",
    "    else:\n",
    "        print('Its both')\n",
    "        \n",
    "test('Nfsdd')"
   ]
  },
  {
   "cell_type": "markdown",
   "id": "e97a9629-5626-4afc-83dd-8ec996bb70f8",
   "metadata": {},
   "source": [
    "18.Write a Python program to determine the roots of a quadratic equation using if-else."
   ]
  },
  {
   "cell_type": "code",
   "execution_count": 1,
   "id": "4b9d38a4-b349-4470-96bc-eb18722c886b",
   "metadata": {},
   "outputs": [
    {
     "name": "stdin",
     "output_type": "stream",
     "text": [
      "Enter coefficient a:  2\n",
      "Enter coefficient b:  -5\n",
      "Enter coefficient c:  2\n"
     ]
    },
    {
     "name": "stdout",
     "output_type": "stream",
     "text": [
      "Roots are real and distinct.\n",
      "Root 1 = 2.0\n",
      "Root 2 = 0.5\n"
     ]
    }
   ],
   "source": [
    "import math\n",
    "\n",
    "def quadratic_roots(a, b, c):\n",
    "    discriminant = b**2 - 4*a*c\n",
    "    \n",
    "    if discriminant > 0:\n",
    "        root1 = (-b + math.sqrt(discriminant)) / (2*a)\n",
    "        root2 = (-b - math.sqrt(discriminant)) / (2*a)\n",
    "        print(\"Roots are real and distinct.\")\n",
    "        print(\"Root 1 =\", root1)\n",
    "        print(\"Root 2 =\", root2)\n",
    "    \n",
    "    elif discriminant == 0:\n",
    "        root = -b / (2*a)\n",
    "        print(\"Roots are real and equal.\")\n",
    "        print(\"Root =\", root)\n",
    "    \n",
    "    else:\n",
    "        real_part = -b / (2*a)\n",
    "        imaginary_part = math.sqrt(-discriminant) / (2*a)\n",
    "        print(\"Roots are complex and imaginary.\")\n",
    "        print(\"Root 1 =\", real_part, \"+\", imaginary_part, \"i\")\n",
    "        print(\"Root 2 =\", real_part, \"-\", imaginary_part, \"i\")\n",
    "\n",
    "a = float(input(\"Enter coefficient a: \"))\n",
    "b = float(input(\"Enter coefficient b: \"))\n",
    "c = float(input(\"Enter coefficient c: \"))\n",
    "\n",
    "quadratic_roots(a, b, c)"
   ]
  },
  {
   "cell_type": "markdown",
   "id": "57567241-91a6-48f2-be81-dc57716a0947",
   "metadata": {},
   "source": [
    "19.Create a Python program that checks if a given year is a century year or not using if-else."
   ]
  },
  {
   "cell_type": "code",
   "execution_count": 8,
   "id": "25d46a68-5937-40a5-a1f5-e039fa003a2c",
   "metadata": {},
   "outputs": [
    {
     "name": "stdout",
     "output_type": "stream",
     "text": [
      "Not a century year\n"
     ]
    }
   ],
   "source": [
    "def century_year(year):\n",
    "    if year % 100 == 0:\n",
    "        if year % 400 == 0:\n",
    "            print('Century year')\n",
    "        else:\n",
    "            print('Not a century year')\n",
    "    else:\n",
    "        print('Not a century year')\n",
    "        \n",
    "\n",
    "century_year(1900)"
   ]
  },
  {
   "cell_type": "markdown",
   "id": "9614e2c5-cb98-4b7a-aaf5-b653e50a3c99",
   "metadata": {},
   "source": [
    "20.Write a Python program to determine if a given number is a perfect square using if-else."
   ]
  },
  {
   "cell_type": "code",
   "execution_count": 12,
   "id": "a9393b37-34ac-43c9-b04c-43d2e84f51fb",
   "metadata": {},
   "outputs": [
    {
     "name": "stdout",
     "output_type": "stream",
     "text": [
      "Perfect square\n"
     ]
    }
   ],
   "source": [
    "def square(num):\n",
    "    square = num ** 0.5\n",
    "    if square == int(square):\n",
    "        print('Perfect square')\n",
    "    else:\n",
    "        print('Not a perfect square')\n",
    "square(9)"
   ]
  },
  {
   "cell_type": "markdown",
   "id": "3fc07f97-8aae-4b50-b9bc-8753d68eea48",
   "metadata": {},
   "source": [
    "21.Explain the purpose of the \"continue\" and \"break\" statements within if-else loops."
   ]
  },
  {
   "cell_type": "code",
   "execution_count": 35,
   "id": "52d8e922-ac79-4bfe-93b6-9deacd1b157e",
   "metadata": {},
   "outputs": [
    {
     "name": "stdout",
     "output_type": "stream",
     "text": [
      "1\n",
      "2\n",
      "3\n",
      "4\n",
      "6\n",
      "7\n",
      "8\n",
      "9\n",
      "Loop with continue completed.\n",
      "1\n",
      "2\n",
      "3\n",
      "Loop with break completed.\n"
     ]
    }
   ],
   "source": [
    "'''\n",
    "*The continue and break statements are control flow statements used within loops in Python to alter the flow of execution.\n",
    "'continue': Skips the remaining code in the current iteration and continues with the next iteration of the loop.\n",
    "'break': Exits the loop prematurely, terminating further iterations of the loop.\n",
    "'''\n",
    "#Example\n",
    "for i in range(1, 10):\n",
    "    if i == 5:\n",
    "        continue\n",
    "    print(i)\n",
    "\n",
    "print(\"Loop with continue completed.\")\n",
    "\n",
    "for j in range(1, 10):\n",
    "    if j == 4:\n",
    "        break\n",
    "    print(j)\n",
    "\n",
    "print(\"Loop with break completed.\")\n"
   ]
  },
  {
   "cell_type": "markdown",
   "id": "e58d4949-21de-424e-ab7a-b097c052f302",
   "metadata": {},
   "source": [
    "22.Create a Python program that calculates the BMI (Body Mass Index) of a person based on their weight and height using if-else."
   ]
  },
  {
   "cell_type": "code",
   "execution_count": 1,
   "id": "8e2c4b94-197e-49d9-9a94-1a67f260db53",
   "metadata": {},
   "outputs": [
    {
     "name": "stdin",
     "output_type": "stream",
     "text": [
      "Enter your height in M: 1.72\n",
      "Enter yout weight in KG: 82\n"
     ]
    },
    {
     "name": "stdout",
     "output_type": "stream",
     "text": [
      "you are over weight\n"
     ]
    }
   ],
   "source": [
    "def BMI():\n",
    "    height = float(input('Enter your height in M:'))\n",
    "    weight = float(input('Enter yout weight in KG:'))\n",
    "    bmi = weight / (height * height)\n",
    "    if bmi < 18.5:\n",
    "        print('Under weight, Eat healthy')\n",
    "    elif 18.5 <= bmi < 25:\n",
    "        print('Healthy weight')\n",
    "    elif 25 <= bmi < 30:\n",
    "        print('you are over weight')\n",
    "    else:\n",
    "        print('Extremly dangerous weight')\n",
    "BMI()"
   ]
  },
  {
   "cell_type": "markdown",
   "id": "3526b12f-b837-4742-b9b6-5b927bfadc91",
   "metadata": {},
   "source": [
    "23.How can you use the \"filter()\" function with if-else statements to filter elements from a list?"
   ]
  },
  {
   "cell_type": "code",
   "execution_count": 39,
   "id": "3ed63860-2efb-4fae-8586-50db6928a787",
   "metadata": {},
   "outputs": [
    {
     "name": "stdout",
     "output_type": "stream",
     "text": [
      "[2, 4, 6, 8, 10]\n"
     ]
    }
   ],
   "source": [
    "'''\n",
    "The filter() function in Python is used to filter elements from an iterable (such as a list) based on a specified function.\n",
    "While you typically don't directly use if-else statements within filter(), you can achieve similar functionality\n",
    "by providing a function to filter() that returns True or False based on a condition, \n",
    "effectively acting as an if-else statement.\n",
    "'''\n",
    "#Example\n",
    "def is_even(num):\n",
    "    return num % 2 == 0\n",
    "\n",
    "lst = [1,2,3,4,5,6,7,8,9,10]\n",
    "result = list(filter(is_even, lst))\n",
    "print(result)"
   ]
  },
  {
   "cell_type": "markdown",
   "id": "de00af6b-be98-4870-83f0-4bc016a90e2a",
   "metadata": {},
   "source": [
    "24.Write a Python program to determine if a given number is prime or not using if-else."
   ]
  },
  {
   "cell_type": "code",
   "execution_count": 16,
   "id": "e7cf4fe8-f2c3-4ac6-9957-d89824acf4a8",
   "metadata": {},
   "outputs": [
    {
     "data": {
      "text/plain": [
       "True"
      ]
     },
     "execution_count": 16,
     "metadata": {},
     "output_type": "execute_result"
    }
   ],
   "source": [
    "def is_prime(num):\n",
    "    if num <= 1:\n",
    "        return False\n",
    "    for i in range(2,int(num ** 0.5) +1):\n",
    "        if num % i == 0:\n",
    "            return False\n",
    "    return True\n",
    "is_prime(997)"
   ]
  },
  {
   "cell_type": "markdown",
   "id": "ff0fc19c-ebae-46ca-984c-8dc97ebb130c",
   "metadata": {},
   "source": [
    "Map :-"
   ]
  },
  {
   "cell_type": "markdown",
   "id": "c014152f-0bd1-4e38-ae06-7c81d3df3416",
   "metadata": {},
   "source": [
    "1.Explain the purpose of the `map()` function in Python and provide an example of how it can be used to apply a function to each element of an iterable."
   ]
  },
  {
   "cell_type": "code",
   "execution_count": 40,
   "id": "a8557682-a48a-4ffb-9df2-5304141db922",
   "metadata": {},
   "outputs": [
    {
     "name": "stdout",
     "output_type": "stream",
     "text": [
      "[1, 4, 9, 16, 25, 36, 49, 64, 81, 100]\n"
     ]
    }
   ],
   "source": [
    "'''\n",
    "The map() function in Python is used to apply a specified function to each item in an iterable (such as a list)\n",
    "and returns a new iterable containing the results. It is commonly used to transform data by applying a function \n",
    "to every element in a collection without the need for explicit loops.\n",
    "'''\n",
    "def square(num):\n",
    "    return num ** 2\n",
    "num = [1,2,3,4,5,6,7,8,9,10]\n",
    "result = list(map(square, num))\n",
    "print(result)"
   ]
  },
  {
   "cell_type": "markdown",
   "id": "7d4a778c-c6a8-410c-8c10-4f3e48be1c87",
   "metadata": {},
   "source": [
    "2.Write a Python program that uses the `map()` function to square each element of a list of numbers."
   ]
  },
  {
   "cell_type": "code",
   "execution_count": 24,
   "id": "1b014530-2cc4-4710-9d5b-43af3c6aa81d",
   "metadata": {},
   "outputs": [
    {
     "data": {
      "text/plain": [
       "[4, 16, 25, 49, 64]"
      ]
     },
     "execution_count": 24,
     "metadata": {},
     "output_type": "execute_result"
    }
   ],
   "source": [
    "def square(num):\n",
    "    return num ** 2\n",
    "\n",
    "def main():\n",
    "    lis = [2,4,5,7,8]\n",
    "    result = map(square, lis)\n",
    "    return list(result)\n",
    "main()"
   ]
  },
  {
   "cell_type": "markdown",
   "id": "f1fd21bd-3f77-4e78-b2de-07ca07c9080c",
   "metadata": {},
   "source": [
    "3.How does the `map()` function differ from a list comprehension in Python, and when would you choose one over the other?"
   ]
  },
  {
   "cell_type": "code",
   "execution_count": 42,
   "id": "80de6463-95ba-4961-b14d-e9008b672d37",
   "metadata": {},
   "outputs": [
    {
     "name": "stdout",
     "output_type": "stream",
     "text": [
      "map() function result:[1, 4, 9, 16, 25]\n",
      "List comprehension result:[1, 4, 9, 16, 25]\n"
     ]
    }
   ],
   "source": [
    "'''\n",
    " Map Function:\n",
    "The map() function applies a specified function to each item of an iterable (e.g., a list) and returns an\n",
    "iterator that yields the results.\n",
    "*The map() function returns a map object, so you often need to convert it to a list, tuple, or another iterable \n",
    "type to see the results.\n",
    "\n",
    " List Comprehension:\n",
    "*List comprehension is a concise way to create lists in Python by applying an expression to each\n",
    "element of an iterable and optionally filtering the elements based on a condition.\n",
    "*It has a more compact syntax compared to using map() and a lambda function.\n",
    "*List comprehensions can include conditionals (if statements) to filter elements based on certain criteria.\n",
    "'''\n",
    "#Example\n",
    "num = [1,2,3,4,5]\n",
    "mapping = list(map(lambda x : x ** 2, num))\n",
    "print(f'map() function result:{mapping}')\n",
    "\n",
    "list_comprehension = [i ** 2 for i in num]\n",
    "print(f'List comprehension result:{list_comprehension}')"
   ]
  },
  {
   "cell_type": "markdown",
   "id": "18fcdcf3-03ec-4f57-90e7-b13ec4fb8bb4",
   "metadata": {},
   "source": [
    "4.Create a Python program that uses the `map()` function to convert a list of names to uppercase."
   ]
  },
  {
   "cell_type": "code",
   "execution_count": 27,
   "id": "876ca2d9-c42a-44e7-b303-35569803838e",
   "metadata": {},
   "outputs": [
    {
     "name": "stdin",
     "output_type": "stream",
     "text": [
      "Enter words: sahsdijhalsdkfs\n"
     ]
    },
    {
     "data": {
      "text/plain": [
       "['SAHSDIJHALSDKFS']"
      ]
     },
     "execution_count": 27,
     "metadata": {},
     "output_type": "execute_result"
    }
   ],
   "source": [
    "def upper(n):\n",
    "    return n.upper()\n",
    "def main():\n",
    "    lis = list(input('Enter words:').split())\n",
    "    result = map(upper, lis)\n",
    "    return list(result)\n",
    "\n",
    "main()"
   ]
  },
  {
   "cell_type": "markdown",
   "id": "845b458c-6237-40db-8d29-2193afde29a7",
   "metadata": {},
   "source": [
    "5.Write a Python program that uses the `map()` function to calculate the length of each word in a list of strings."
   ]
  },
  {
   "cell_type": "code",
   "execution_count": 33,
   "id": "03e6e5ab-6555-4769-85c9-590363ac3b28",
   "metadata": {},
   "outputs": [
    {
     "name": "stdin",
     "output_type": "stream",
     "text": [
      "Enter multiple words separeted by space : Hello how are you\n"
     ]
    },
    {
     "data": {
      "text/plain": [
       "[5, 3, 3, 3]"
      ]
     },
     "execution_count": 33,
     "metadata": {},
     "output_type": "execute_result"
    }
   ],
   "source": [
    "def main():\n",
    "    lis = list(input('Enter multiple words separeted by space :').split(' '))\n",
    "    result = map(len, lis)\n",
    "    return list(result)\n",
    "\n",
    "main()"
   ]
  },
  {
   "cell_type": "markdown",
   "id": "5ed8f7ef-12a6-4629-b451-799436e93798",
   "metadata": {},
   "source": [
    "6.How can you use the `map()` function to apply a custom function to elements of multiple lists simultaneously in Python?"
   ]
  },
  {
   "cell_type": "code",
   "execution_count": 43,
   "id": "3ac303bc-41dd-4f62-826e-40a047be9e0a",
   "metadata": {},
   "outputs": [
    {
     "name": "stdout",
     "output_type": "stream",
     "text": [
      "[5, 9, 13]\n"
     ]
    }
   ],
   "source": [
    "'''\n",
    "*the map() function in Python to apply a custom function to elements of multiple lists simultaneously by \n",
    "passing the lists as arguments to map() along with the custom function.\n",
    "'''\n",
    "def add(parameter1, parameter2):\n",
    "    return parameter1 + parameter2\n",
    "lst1 = [2,4,6]\n",
    "lst2 = [3,5,7]\n",
    "result = list(map(add, lst1, lst2))\n",
    "print(result)"
   ]
  },
  {
   "cell_type": "markdown",
   "id": "5f227f80-72b8-4d97-a50d-853be2fb7be5",
   "metadata": {},
   "source": [
    "7.Create a Python program that uses `map()` to convert a list of temperatures from Celsius to Fahrenheit."
   ]
  },
  {
   "cell_type": "code",
   "execution_count": 10,
   "id": "9ef99fdd-8c6c-46d5-801b-60b7cca87236",
   "metadata": {},
   "outputs": [
    {
     "data": {
      "text/plain": [
       "[87.8, 75.2, -0.4, 68.0, 30.2]"
      ]
     },
     "execution_count": 10,
     "metadata": {},
     "output_type": "execute_result"
    }
   ],
   "source": [
    "def celcius_fahrenheit(n):\n",
    "    return (n * 9/5) + 32\n",
    "\n",
    "def main():\n",
    "    lis = [31,24,-18,20,-1]\n",
    "    result = map(celcius_fahrenheit, lis)\n",
    "    final = [(round(result, 2)) for result in result]\n",
    "    return final\n",
    "main()"
   ]
  },
  {
   "cell_type": "markdown",
   "id": "481f043a-0bd8-4cc6-801d-7497ec16a7f5",
   "metadata": {},
   "source": [
    "8.Write a Python program that uses the `map()` function to round each element of a list of floating-point numbers to the nearest integer."
   ]
  },
  {
   "cell_type": "code",
   "execution_count": 6,
   "id": "3ec3a8a3-3179-4b7b-a1fd-b1e931d53ad8",
   "metadata": {},
   "outputs": [
    {
     "data": {
      "text/plain": [
       "[1, 5, 5, 1]"
      ]
     },
     "execution_count": 6,
     "metadata": {},
     "output_type": "execute_result"
    }
   ],
   "source": [
    "def rounding():\n",
    "    lis = [1.3, 5.4, 5.3, 1.0]\n",
    "    return list(map(round, lis))\n",
    "\n",
    "rounding()"
   ]
  },
  {
   "cell_type": "markdown",
   "id": "48a2658c-2a41-44d0-b42a-2adbe68b0aae",
   "metadata": {},
   "source": [
    "Reduce :-"
   ]
  },
  {
   "cell_type": "markdown",
   "id": "a762757c-052c-4776-a0b6-2e611d6997af",
   "metadata": {},
   "source": [
    "1.What is the `reduce()` function in Python, and what module should you import to use it? Provide an example of its basic usage."
   ]
  },
  {
   "cell_type": "raw",
   "id": "dbfe06d7-aa60-4553-9779-61506636e61c",
   "metadata": {},
   "source": [
    "*reduce() function used to apply specified function cumulatively to the items of an iterable from left to right to reduce the iterable to a single value.\n",
    "*To use reduce() function import reduce() from functools."
   ]
  },
  {
   "cell_type": "markdown",
   "id": "8aac3bcd-bc8c-4794-a3d3-7d0678af4b98",
   "metadata": {},
   "source": [
    "2.Write a Python program that uses the `reduce()` function to find the product of all elements in a list."
   ]
  },
  {
   "cell_type": "code",
   "execution_count": 7,
   "id": "ad76db27-6ee2-4555-a9f1-381ed981267b",
   "metadata": {},
   "outputs": [
    {
     "name": "stdout",
     "output_type": "stream",
     "text": [
      "21\n"
     ]
    }
   ],
   "source": [
    "from functools import reduce\n",
    "def add(x,y):\n",
    "    return x+y\n",
    "lis = [1,2,3,4,5,6]\n",
    "result = reduce(add, lis)\n",
    "print(result)"
   ]
  },
  {
   "cell_type": "markdown",
   "id": "528ce0f6-13dd-4d20-a369-20c82ae18702",
   "metadata": {},
   "source": [
    "3.Create a Python program that uses `reduce()` to find the maximum element in a list of numbers."
   ]
  },
  {
   "cell_type": "code",
   "execution_count": 9,
   "id": "b216c398-41ff-4263-b0c7-7cebec23ae88",
   "metadata": {},
   "outputs": [
    {
     "name": "stdout",
     "output_type": "stream",
     "text": [
      "646\n"
     ]
    }
   ],
   "source": [
    "def find_max(x,y):\n",
    "    return x if x > y else y\n",
    "from functools import reduce\n",
    "lis = [64,64,4,4,646,2,7,9,3,0]\n",
    "print(reduce(find_max, lis))"
   ]
  },
  {
   "cell_type": "markdown",
   "id": "e79bfe4e-8a6a-4b98-9e3c-8b7bd1283e46",
   "metadata": {},
   "source": [
    "4.How can you use the `reduce()` function to concatenate a list of strings into a single string?"
   ]
  },
  {
   "cell_type": "code",
   "execution_count": 40,
   "id": "17943d31-c920-4db2-bcc5-09b255e4d060",
   "metadata": {},
   "outputs": [
    {
     "name": "stdout",
     "output_type": "stream",
     "text": [
      "Hello how are you\n"
     ]
    }
   ],
   "source": [
    "'''\n",
    "Using reduce() function to concatenate a list of strings into a single string,\n",
    "It iterates and concatenate a list of strings until it become one string \n",
    "'''\n",
    "def concatenate(x,y):\n",
    "    return x + y\n",
    "from functools import reduce\n",
    "string = \"Hello \",\"how are\",\" you\"\n",
    "print(reduce(concatenate, string))"
   ]
  },
  {
   "cell_type": "markdown",
   "id": "8ea42277-7494-48fe-ae4f-c18a401d5b0b",
   "metadata": {},
   "source": [
    "5.Write a Python program that calculates the factorial of a number using the `reduce()` function."
   ]
  },
  {
   "cell_type": "code",
   "execution_count": 18,
   "id": "36000fc8-8fd8-49f3-9850-44c78abfa831",
   "metadata": {},
   "outputs": [
    {
     "data": {
      "text/plain": [
       "120"
      ]
     },
     "execution_count": 18,
     "metadata": {},
     "output_type": "execute_result"
    }
   ],
   "source": [
    "import functools\n",
    "import operator\n",
    "def facto(n):\n",
    "    if n == 0:\n",
    "        return 1\n",
    "    else:\n",
    "        return reduce(operator.mul, range(1,n+1))\n",
    "    \n",
    "facto(5)"
   ]
  },
  {
   "cell_type": "markdown",
   "id": "5a945233-a11f-474a-bd33-84fcd4f05db1",
   "metadata": {},
   "source": [
    "6.Create a Python program that uses `reduce()` to find the GCD (Greatest Common Divisor) of a list of numbers."
   ]
  },
  {
   "cell_type": "code",
   "execution_count": 3,
   "id": "60152c5d-f577-4c28-bae2-7a501189cc95",
   "metadata": {},
   "outputs": [
    {
     "name": "stdout",
     "output_type": "stream",
     "text": [
      "10\n"
     ]
    }
   ],
   "source": [
    "from math import gcd\n",
    "from functools import reduce\n",
    "lis = [10,20,30,40]\n",
    "print(reduce(gcd, lis))"
   ]
  },
  {
   "cell_type": "markdown",
   "id": "5dc19731-0b6d-4354-9306-1a878cd9d737",
   "metadata": {},
   "source": [
    "7.Write a Python program that uses the `reduce()` function to find the sum of the digits of a given number."
   ]
  },
  {
   "cell_type": "code",
   "execution_count": 10,
   "id": "458eb0aa-cd51-4b38-8624-fe16c954900c",
   "metadata": {},
   "outputs": [
    {
     "data": {
      "text/plain": [
       "15"
      ]
     },
     "execution_count": 10,
     "metadata": {},
     "output_type": "execute_result"
    }
   ],
   "source": [
    "from functools import reduce\n",
    "def sum_function(num):\n",
    "    digi = list(map(int, str(num)))\n",
    "    return reduce(lambda x,y:x+y, digi)\n",
    "num = 12345\n",
    "sum_function(num)"
   ]
  },
  {
   "cell_type": "markdown",
   "id": "4c6aa9ee-d57c-49d7-8616-9d4873d3c34e",
   "metadata": {},
   "source": [
    "Filter :-"
   ]
  },
  {
   "cell_type": "markdown",
   "id": "d46f0e43-754c-4c76-ab74-4f85e30e0cea",
   "metadata": {},
   "source": [
    "1.Explain the purpose of the `filter()` function in Python and provide an example of how it can be used to filter elements from an iterable."
   ]
  },
  {
   "cell_type": "code",
   "execution_count": 41,
   "id": "2a1e280f-f168-483d-96a6-f0d6995a3160",
   "metadata": {},
   "outputs": [
    {
     "name": "stdout",
     "output_type": "stream",
     "text": [
      "[2, 4, 6, 8, 10]\n"
     ]
    }
   ],
   "source": [
    "'''\n",
    "*'filter()' fucntion used to filter out element from a sequence based on given condition. It takes two arguements.\n",
    "Example: It filters all the even number from a list\n",
    "'''\n",
    "def is_even(num):\n",
    "    return num % 2 == 0\n",
    "    \n",
    "lis = [1,2,3,4,5,6,7,8,9,10]\n",
    "print(list(filter(is_even, lis)))"
   ]
  },
  {
   "cell_type": "markdown",
   "id": "72d84880-6df1-4f06-9899-f792ce977143",
   "metadata": {},
   "source": [
    "2.Write a Python program that uses the `filter()` function to select even numbers from a list of integers."
   ]
  },
  {
   "cell_type": "code",
   "execution_count": 16,
   "id": "a1376abc-cb3b-4f94-993b-342e4d5d0961",
   "metadata": {},
   "outputs": [
    {
     "name": "stdout",
     "output_type": "stream",
     "text": [
      "[2, 4, 6, 8, 10]\n"
     ]
    }
   ],
   "source": [
    "def is_even(num):\n",
    "    return num % 2 == 0\n",
    "    \n",
    "lis = [1,2,3,4,5,6,7,8,9,10]\n",
    "print(list(filter(is_even, lis)))"
   ]
  },
  {
   "cell_type": "markdown",
   "id": "5d058930-ce60-42c9-98c4-c80c9ebb5cec",
   "metadata": {},
   "source": [
    "3.Create a Python program that uses the `filter()` function to select names that start with a specific letter from a list of strings."
   ]
  },
  {
   "cell_type": "code",
   "execution_count": 19,
   "id": "2e6e1142-6e01-40fa-b860-b1a4fb1072c2",
   "metadata": {},
   "outputs": [
    {
     "name": "stdout",
     "output_type": "stream",
     "text": [
      "['Alice']\n"
     ]
    }
   ],
   "source": [
    "def specific_letter(word,start):\n",
    "    return word.startswith(start)\n",
    "names = ['Alice', 'Bob', 'Charlie', 'David', 'Eve', 'Frank']\n",
    "start = 'A'\n",
    "result = list(filter(lambda x: specific_letter(x,start), names))\n",
    "print(result)"
   ]
  },
  {
   "cell_type": "markdown",
   "id": "258656bc-791b-4b91-8b75-d3324481d4c7",
   "metadata": {},
   "source": [
    "4.Write a Python program that uses the `filter()` function to select prime numbers from a list of integers."
   ]
  },
  {
   "cell_type": "code",
   "execution_count": 25,
   "id": "6c733393-6370-4f19-82ea-5dd39523e212",
   "metadata": {},
   "outputs": [
    {
     "name": "stdout",
     "output_type": "stream",
     "text": [
      "[2, 3, 5, 7, 11, 13]\n"
     ]
    }
   ],
   "source": [
    "def is_prime(num):\n",
    "    if num <= 1:\n",
    "        return False\n",
    "    for i in range(2,int(num ** 0.5) +1):\n",
    "        if num % i == 0:\n",
    "            return False\n",
    "    return True\n",
    "num = [1,2,3,4,5,6,7,8,9,10,11,12,13,14,15]\n",
    "result = list(filter(is_prime, num))\n",
    "print(result)"
   ]
  },
  {
   "cell_type": "markdown",
   "id": "1722ad5a-1bb8-42a2-ad28-4277e22c4bec",
   "metadata": {},
   "source": [
    "5.How can you use the `filter()` function to remove None values from a list in Python?"
   ]
  },
  {
   "cell_type": "code",
   "execution_count": 8,
   "id": "b7974005-ecf6-43d9-a05a-978e57fa0cb1",
   "metadata": {},
   "outputs": [
    {
     "name": "stdout",
     "output_type": "stream",
     "text": [
      "[1, 2, 4, 5, 6]\n"
     ]
    }
   ],
   "source": [
    "lis = [1,2,None,4,5,None,6]\n",
    "filtered_list = list(filter(lambda x: x is not None, lis))\n",
    "print(filtered_list)"
   ]
  },
  {
   "cell_type": "markdown",
   "id": "9c92e3f4-1aad-4ba6-a1ec-e0301bc65c7e",
   "metadata": {},
   "source": [
    "6.Create a Python program that uses `filter()` to select words longer than a certain length from a list of strings."
   ]
  },
  {
   "cell_type": "code",
   "execution_count": 11,
   "id": "0cdc7340-52b2-4ef6-a3b4-611d08fdb9fa",
   "metadata": {},
   "outputs": [
    {
     "name": "stdout",
     "output_type": "stream",
     "text": [
      "['banana', 'orange', 'grapes', 'pineapple']\n"
     ]
    }
   ],
   "source": [
    "def filter_words(word_len,length):\n",
    "    return list(filter(lambda word : len(word) > length, word_len))\n",
    "\n",
    "def main():\n",
    "    words = ['apple','banana','orange','grapes','pineapple']\n",
    "    length = 5\n",
    "    print(filter_words(words, length))\n",
    "    \n",
    "if __name__ == '__main__':\n",
    "    main()"
   ]
  },
  {
   "cell_type": "markdown",
   "id": "e85e6393-3d60-4c61-88c2-94c15121fbcc",
   "metadata": {},
   "source": [
    "7.Write a Python program that uses the `filter()` function to select elements greater than a specified threshold from a list of values."
   ]
  },
  {
   "cell_type": "code",
   "execution_count": 15,
   "id": "74482ab7-8195-442b-be55-832eb6b938fa",
   "metadata": {},
   "outputs": [
    {
     "name": "stdout",
     "output_type": "stream",
     "text": [
      "[60, 70, 80, 90, 100]\n"
     ]
    }
   ],
   "source": [
    "def filter_words(lis,threshold):\n",
    "    return list(filter(lambda x : x > threshold, lis))\n",
    "\n",
    "def main():\n",
    "    lis = [10,20,30,40,50,60,70,80,90,100]\n",
    "    threshold = 50\n",
    "    print(filter_words(lis, threshold))\n",
    "    \n",
    "if __name__ == '__main__':\n",
    "    main()"
   ]
  },
  {
   "cell_type": "markdown",
   "id": "8bbde33a-ef3d-4fa4-9524-61a45cb6764e",
   "metadata": {},
   "source": [
    "Recursion:-"
   ]
  },
  {
   "cell_type": "markdown",
   "id": "9fce34b5-f424-42a4-9b25-525746898ba1",
   "metadata": {},
   "source": [
    "1.Explain the concept of recursion in Python. How does it differ from iteration?"
   ]
  },
  {
   "cell_type": "code",
   "execution_count": null,
   "id": "5230ac6f-443f-4d57-bc6d-5b220873a855",
   "metadata": {},
   "outputs": [],
   "source": [
    "'''*Recursion function calls itself in its definition, It breakdown a problem into smaller, simpler sub-problems \n",
    "and solve each sub-problem until it reaches a base case.\n",
    "*Recursion and iteration are both techniques used in programming to repeatedly execute a set of instructions. \n",
    "However, they differ in how they accomplish this repetition.\n",
    "*Iteration, on the other hand, involves repeating a set of instructions a specified number of times or until a condition\n",
    "is met. It uses loops like for and while to execute a block of code repeatedly.\n",
    "'''"
   ]
  },
  {
   "cell_type": "markdown",
   "id": "a8ddea1c-ebd7-4609-add3-4f5e2ac0e444",
   "metadata": {},
   "source": [
    "2.Write a Python program to calculate the factorial of a number using recursion."
   ]
  },
  {
   "cell_type": "code",
   "execution_count": 7,
   "id": "78b61a41-0942-4b14-918f-7cfeac8d88c8",
   "metadata": {},
   "outputs": [
    {
     "data": {
      "text/plain": [
       "120"
      ]
     },
     "execution_count": 7,
     "metadata": {},
     "output_type": "execute_result"
    }
   ],
   "source": [
    "def factorial(num):\n",
    "    if num < 0:\n",
    "        return 'Invalid'\n",
    "    elif num == 0:\n",
    "        return 1\n",
    "    else:\n",
    "        return num * factorial(num-1)\n",
    "\n",
    "factorial(5)"
   ]
  },
  {
   "cell_type": "markdown",
   "id": "52ea6430-e131-460a-9d26-3cf53e435e15",
   "metadata": {},
   "source": [
    "3.Create a recursive Python function to find the nth Fibonacci number."
   ]
  },
  {
   "cell_type": "code",
   "execution_count": 1,
   "id": "37a01986-de22-42b0-8ae8-835f038f55c8",
   "metadata": {},
   "outputs": [
    {
     "data": {
      "text/plain": [
       "55"
      ]
     },
     "execution_count": 1,
     "metadata": {},
     "output_type": "execute_result"
    }
   ],
   "source": [
    "def fibonacci(n):\n",
    "    if n <= 0:\n",
    "        return \"Invalid\"\n",
    "    elif n == 1:\n",
    "        return 0\n",
    "    elif n == 2:\n",
    "        return 1\n",
    "    else:\n",
    "        return fibonacci(n - 1) + fibonacci(n - 2)\n",
    "fibonacci(11)"
   ]
  },
  {
   "cell_type": "markdown",
   "id": "c4ea2e76-bbb5-462a-a3d4-3776d948a2f0",
   "metadata": {},
   "source": [
    "4.Write a recursive Python function to calculate the sum of all elements in a list."
   ]
  },
  {
   "cell_type": "code",
   "execution_count": 6,
   "id": "4c1141cd-3543-47dd-a600-75fb11f15a6d",
   "metadata": {},
   "outputs": [
    {
     "data": {
      "text/plain": [
       "15"
      ]
     },
     "execution_count": 6,
     "metadata": {},
     "output_type": "execute_result"
    }
   ],
   "source": [
    "def addition(arr):\n",
    "    if not arr:\n",
    "        return 0\n",
    "    else:\n",
    "        return arr[0]+addition(arr[1:])\n",
    "\n",
    "lis = [1,2,3,4,5]\n",
    "addition(lis)"
   ]
  },
  {
   "cell_type": "markdown",
   "id": "894fe133-3603-4aa0-b601-fd40296573a4",
   "metadata": {},
   "source": [
    "5.How can you prevent a recursive function from running indefinitely, causing a stack overflow error?"
   ]
  },
  {
   "cell_type": "code",
   "execution_count": null,
   "id": "9cc3718e-4aaa-44dc-9738-1476d03b34fa",
   "metadata": {},
   "outputs": [],
   "source": [
    "'''\n",
    "*To prevent Recursive function from running indefinitely, recursive have to proper termination condition\n",
    "also know as 'base case'.\n",
    "'''"
   ]
  },
  {
   "cell_type": "markdown",
   "id": "51fad0b8-cba5-4abb-aad9-57003252645e",
   "metadata": {},
   "source": [
    "6.Create a recursive Python function to find the greatest common divisor (GCD) of two numbers using the Euclidean algorithm."
   ]
  },
  {
   "cell_type": "code",
   "execution_count": 5,
   "id": "150c90c2-9463-4a64-ab5b-e4f449b89a02",
   "metadata": {},
   "outputs": [
    {
     "name": "stdout",
     "output_type": "stream",
     "text": [
      "5\n"
     ]
    }
   ],
   "source": [
    "def GCD(a,b):\n",
    "    if b==0:\n",
    "        return a\n",
    "    else:\n",
    "        return GCD(b, a%b)\n",
    "\n",
    "num1 = 85\n",
    "num2 = 45\n",
    "print(GCD(num1,num2))"
   ]
  },
  {
   "cell_type": "markdown",
   "id": "00c57e8f-7225-4aea-87d5-33c3e664673e",
   "metadata": {},
   "source": [
    "7.Write a recursive Python function to reverse a string."
   ]
  },
  {
   "cell_type": "code",
   "execution_count": 2,
   "id": "655d98d8-e11e-4f80-b8da-5bf797b0dc53",
   "metadata": {},
   "outputs": [
    {
     "data": {
      "text/plain": [
       "'olleh'"
      ]
     },
     "execution_count": 2,
     "metadata": {},
     "output_type": "execute_result"
    }
   ],
   "source": [
    "def reverse(string):\n",
    "    if len(string) == 0:\n",
    "        return string\n",
    "    else:\n",
    "        return reverse(string[1:]) + string[0]\n",
    "    \n",
    "string = 'hello'\n",
    "reverse(string)"
   ]
  },
  {
   "cell_type": "markdown",
   "id": "75970a2a-1795-4e11-a418-a67bf2e22c19",
   "metadata": {},
   "source": [
    "8.Create a recursive Python function to calculate the power of a number (x^n)."
   ]
  },
  {
   "cell_type": "code",
   "execution_count": 4,
   "id": "676c2970-8b76-42c8-93eb-88a28b730d7b",
   "metadata": {},
   "outputs": [
    {
     "data": {
      "text/plain": [
       "64"
      ]
     },
     "execution_count": 4,
     "metadata": {},
     "output_type": "execute_result"
    }
   ],
   "source": [
    "def power(x, n):\n",
    "    if n == 0:\n",
    "        return 1\n",
    "    elif n < 0:\n",
    "        return 1 / power(x, -n)\n",
    "    elif n % 2 == 0:\n",
    "        return power(x * x, n // 2)\n",
    "    else:\n",
    "        return x * power(x, n - 1)\n",
    "base = 8\n",
    "exponent = 2\n",
    "power(base, exponent)"
   ]
  },
  {
   "cell_type": "markdown",
   "id": "607d492a-7764-4e0f-8fe2-f4d19936723f",
   "metadata": {},
   "source": [
    "9.Write a recursive Python function to find all permutations of a given string."
   ]
  },
  {
   "cell_type": "code",
   "execution_count": 11,
   "id": "63d0eba0-bada-490d-84ca-b3f70a25e6dc",
   "metadata": {},
   "outputs": [
    {
     "name": "stdout",
     "output_type": "stream",
     "text": [
      "Permutations of hgo are: ['hgo', 'hog', 'gho', 'goh', 'ohg', 'ogh']\n"
     ]
    }
   ],
   "source": [
    "def permutations(string):\n",
    "    if len(string) == 1:\n",
    "        return [string]\n",
    "    result = []\n",
    "    for char in string:\n",
    "        remaining_chars = string.replace(char, '', 1)\n",
    "        partial_perms = permutations(remaining_chars)\n",
    "        for perm in partial_perms:\n",
    "            result.append(char + perm)\n",
    "    return result\n",
    "\n",
    "input_string = \"hgo\"\n",
    "print(\"Permutations of\", input_string, \"are:\", permutations(input_string))\n"
   ]
  },
  {
   "cell_type": "markdown",
   "id": "f1815a8c-e98b-4a23-afe1-2e57d6091c46",
   "metadata": {},
   "source": [
    "10.Write a recursive Python function to check if a string is a palindrome."
   ]
  },
  {
   "cell_type": "code",
   "execution_count": 39,
   "id": "a743d7c9-6757-4b73-8f59-24c1f93b4779",
   "metadata": {},
   "outputs": [
    {
     "data": {
      "text/plain": [
       "True"
      ]
     },
     "execution_count": 39,
     "metadata": {},
     "output_type": "execute_result"
    }
   ],
   "source": [
    "def is_palindrome(word):\n",
    "    if len(word) <= 1:\n",
    "        return True\n",
    "    elif word[0] == word[-1]:\n",
    "        return is_palindrome(word[1:-1])\n",
    "    else:\n",
    "        return False\n",
    "word = 'malayalam'\n",
    "is_palindrome(word)"
   ]
  },
  {
   "cell_type": "markdown",
   "id": "9c1be0a1-2c04-4718-b099-8b5efb8d8f37",
   "metadata": {},
   "source": [
    "11.Create a recursive Python function to generate all possible combinations of a list of elements."
   ]
  },
  {
   "cell_type": "code",
   "execution_count": 39,
   "id": "ae0b778d-137e-4cb4-9b87-0f35522dc136",
   "metadata": {},
   "outputs": [
    {
     "name": "stdout",
     "output_type": "stream",
     "text": [
      "All possible combinations: [[], [1], [2], [1, 2], [3], [1, 3], [2, 3], [1, 2, 3], [4], [1, 4], [2, 4], [1, 2, 4], [3, 4], [1, 3, 4], [2, 3, 4], [1, 2, 3, 4]]\n"
     ]
    }
   ],
   "source": [
    "def generate_combinations(lst):\n",
    "    result = [[]]  \n",
    "    for element in lst:\n",
    "        temp_result = []\n",
    "        for combo in result:\n",
    "            temp_result.append(combo + [element])\n",
    "        result.extend(temp_result)\n",
    "    return result\n",
    "\n",
    "elements = [1, 2, 3, 4]\n",
    "print(\"All possible combinations:\", generate_combinations(elements))"
   ]
  },
  {
   "cell_type": "markdown",
   "id": "eab55465-386e-47e9-a439-edd883c9210c",
   "metadata": {},
   "source": [
    "Basics of Functions:"
   ]
  },
  {
   "cell_type": "markdown",
   "id": "24db7040-68cb-45a8-8cc0-c0aa554e30e9",
   "metadata": {},
   "source": [
    "1.What is a function in Python, and why is it used?"
   ]
  },
  {
   "cell_type": "raw",
   "id": "d543942b-c57c-41b6-8c6d-7c4cc9a20e18",
   "metadata": {},
   "source": [
    "*Function is a block of reusable code that performs a specific task. It encapsulates a set of instructions that can be executed by calling the function with appropriate parameters. Functions are essential for organizing code into manageable and reusable pieces, promoting modularity, readability, and maintainability of the codebase.\n",
    "*Functions are a fundamental concept in Python programming that play a crucial role in structuring and organizing code, promoting reusability, and facilitating the development of complex software systems."
   ]
  },
  {
   "cell_type": "markdown",
   "id": "f120391f-06c1-4d52-89cd-e1cc42a38eff",
   "metadata": {},
   "source": [
    "2.How do you define a function in Python? Provide an example."
   ]
  },
  {
   "cell_type": "code",
   "execution_count": 23,
   "id": "90b5ff7c-50af-4809-8d73-af997df129ee",
   "metadata": {},
   "outputs": [
    {
     "name": "stdout",
     "output_type": "stream",
     "text": [
      "Hello udaya How are you!\n"
     ]
    }
   ],
   "source": [
    "#The 'def' keyword followed by the function name, parameters (if any)\n",
    "#and a colon. The function body is then indented beneath the function definition.\n",
    "\n",
    "def greet(name):\n",
    "    print(f'Hello {name} How are you!')\n",
    "\n",
    "greet('udaya')"
   ]
  },
  {
   "cell_type": "markdown",
   "id": "b2399d8c-118a-4cc3-b88d-8521ae856db7",
   "metadata": {},
   "source": [
    "3.Explain the difference between a function definition and a function call."
   ]
  },
  {
   "cell_type": "raw",
   "id": "1ec28c96-11cb-4640-b7b0-0d572051a5b8",
   "metadata": {},
   "source": [
    "Function Definition : \n",
    "*A function definition is where you define what a function does and how it operates.\n",
    "*A function definition doesn't execute the code inside the function body until the function is called.\n",
    "Function Call:\n",
    "*A function call is invoke the function to execute its code.\n",
    "*It involves writing the function's name followed by parentheses containing any necessary arguments.\n",
    "*When a function is called, the program flow jumps to the function definition, executes the code inside it, and then returns to the point where the function was called."
   ]
  },
  {
   "cell_type": "markdown",
   "id": "ab69e982-b3ec-44d2-8d48-a2f0ef469be5",
   "metadata": {},
   "source": [
    "4.Write a Python program that defines a function to calculate the sum of two numbers and then calls the function."
   ]
  },
  {
   "cell_type": "code",
   "execution_count": 37,
   "id": "fddb907f-69d4-4227-a95a-22f57f5da7fe",
   "metadata": {},
   "outputs": [
    {
     "name": "stdout",
     "output_type": "stream",
     "text": [
      "10\n"
     ]
    }
   ],
   "source": [
    "def add(a,b):\n",
    "    return a+b\n",
    "num1 = 5\n",
    "num2 = 5\n",
    "result = add(num1,num2)\n",
    "print(result)"
   ]
  },
  {
   "cell_type": "markdown",
   "id": "27a419a1-6be1-49c3-84a5-4cdc402249bf",
   "metadata": {},
   "source": [
    "5.What is a function signature, and what information does it typically include?"
   ]
  },
  {
   "cell_type": "code",
   "execution_count": 35,
   "id": "1aa6e178-ee0d-4658-92b2-e10c09095608",
   "metadata": {},
   "outputs": [
    {
     "data": {
      "text/plain": [
       "3"
      ]
     },
     "execution_count": 35,
     "metadata": {},
     "output_type": "execute_result"
    }
   ],
   "source": [
    "def calculate_sum(num1: int, num2: int) -> int:\n",
    "    return num1 + num2\n",
    "    \"\"\"\n",
    "    This function calculates the sum of two integers.\n",
    "    \"\"\"\n",
    "calculate_sum(1,2)"
   ]
  },
  {
   "cell_type": "markdown",
   "id": "d4ad73b7-a3ed-46a2-809c-dba477effe6d",
   "metadata": {},
   "source": [
    "6.Create a Python function that takes two arguments and returns their product."
   ]
  },
  {
   "cell_type": "code",
   "execution_count": 3,
   "id": "af3da599-180c-4aec-9b18-4b33384bce88",
   "metadata": {},
   "outputs": [
    {
     "data": {
      "text/plain": [
       "25"
      ]
     },
     "execution_count": 3,
     "metadata": {},
     "output_type": "execute_result"
    }
   ],
   "source": [
    "def product_of_two(a,b):\n",
    "    return a * b\n",
    "product_of_two(5,5)"
   ]
  },
  {
   "cell_type": "markdown",
   "id": "0f4bcc52-d630-408a-a470-b3c91d30f0c6",
   "metadata": {},
   "source": [
    "Function Parameters and Arguments:"
   ]
  },
  {
   "cell_type": "markdown",
   "id": "5011158a-1655-4f9d-b096-1aa34ca7893b",
   "metadata": {},
   "source": [
    "1.Explain the concepts of formal parameters and actual arguments in Python functions."
   ]
  },
  {
   "cell_type": "raw",
   "id": "2a4e3978-db28-4d02-ab26-f67eb1d2f803",
   "metadata": {},
   "source": [
    "Formal Parameters:\n",
    "*Formal parameters are the placeholders used in the function definition to represent the values that will be supplied when the function is called.\n",
    "*These parameters are listed inside the parentheses of the function definition.\n",
    "*Formal parameters act as local variables within the function, meaning they are only accessible within the function's scope.\n",
    "*They serve as a way for the function to receive input values from the caller.\n",
    "*Formal parameters provide a generic name for the values that the function expects to receive, without specifying their actual values.\n",
    "\n",
    "Actual Arguments:\n",
    "*Actual arguments are the values that are passed to the function when it is called.\n",
    "*These values are substituted for the formal parameters defined in the function header.\n",
    "*Actual arguments can be constants, variables, expressions, or even other function calls.\n",
    "*They provide the specific data that the function will operate on.\n",
    "*There are different types of actual arguments: positional arguments, keyword arguments, default arguments, and variable-length arguments."
   ]
  },
  {
   "cell_type": "markdown",
   "id": "726ec06a-cd3c-481a-96e4-40712a07676a",
   "metadata": {},
   "source": [
    "2.Write a Python program that defines a function with default argument values."
   ]
  },
  {
   "cell_type": "code",
   "execution_count": 12,
   "id": "4a80eb67-a5de-42b5-b164-752e961a38e1",
   "metadata": {},
   "outputs": [
    {
     "name": "stdout",
     "output_type": "stream",
     "text": [
      "Hello Guest\n",
      "Hello udaya\n"
     ]
    }
   ],
   "source": [
    "def greet(name='Guest'):\n",
    "    print('Hello',name)\n",
    "greet()\n",
    "greet('udaya')"
   ]
  },
  {
   "cell_type": "markdown",
   "id": "8ecbddcd-d6c2-4d66-80b6-bf1c5371c8dc",
   "metadata": {},
   "source": [
    "3.How do you use keyword arguments in Python function calls? Provide an example."
   ]
  },
  {
   "cell_type": "code",
   "execution_count": 22,
   "id": "2b251de3-ce47-438d-adc4-fff357203211",
   "metadata": {},
   "outputs": [
    {
     "name": "stdout",
     "output_type": "stream",
     "text": [
      "Hello Udaya How are you\n"
     ]
    }
   ],
   "source": [
    "'''\n",
    "*In Python, you can use keyword arguments to specify the values for the parameters of a function based on their names, \n",
    "*rather than their positions. This allows for more explicit and readable function calls, especially when dealing with \n",
    "functions that have many parameters. Here's an example:\n",
    "'''\n",
    "def greet(name,message):\n",
    "    print('Hello', name , message)\n",
    "\n",
    "greet(name = 'Udaya', message = 'How are you')"
   ]
  },
  {
   "cell_type": "markdown",
   "id": "91e600fb-024b-4b2b-9a42-b640635b712d",
   "metadata": {},
   "source": [
    "4.Create a Python function that accepts a variable number of arguments and calculates their sum."
   ]
  },
  {
   "cell_type": "code",
   "execution_count": 26,
   "id": "15f28474-ff27-492c-a111-e30dba24b3bb",
   "metadata": {},
   "outputs": [
    {
     "data": {
      "text/plain": [
       "15"
      ]
     },
     "execution_count": 26,
     "metadata": {},
     "output_type": "execute_result"
    }
   ],
   "source": [
    "def sum_of_num(*num):\n",
    "    total = 0\n",
    "    for i in num:\n",
    "        total += i\n",
    "    return total\n",
    "sum_of_num(1,2,3,4,5)"
   ]
  },
  {
   "cell_type": "markdown",
   "id": "e9aa6d15-afba-45ea-8244-d3a56bcbf66d",
   "metadata": {},
   "source": [
    "5.What is the purpose of the `*args` and `**kwargs` syntax in function parameter lists?"
   ]
  },
  {
   "cell_type": "code",
   "execution_count": null,
   "id": "f3ead3a5-6f5e-401c-b5f3-5cba6ba57933",
   "metadata": {},
   "outputs": [],
   "source": [
    "'''\n",
    "*args:\n",
    "*The *args syntax allows a function to accept a variable number of positional arguments.\n",
    "*When you use *args in a function definition, it collects all the positional arguments passed to the function into a tuple.\n",
    "\n",
    "**kwargs:\n",
    "*The **kwargs syntax allows a function to accept a variable number of keyword arguments (i.e., arguments specified with a name).\n",
    "*When you use **kwargs in a function definition, it collects all the keyword arguments passed to the function into a dictionary.\n",
    "*The keys of the dictionary are the argument names, and the values are the corresponding argument values.\n",
    "'''"
   ]
  },
  {
   "cell_type": "markdown",
   "id": "ef56fe98-84dc-4215-977b-275f8e96e7e1",
   "metadata": {},
   "source": [
    "Return Values and Scoping:"
   ]
  },
  {
   "cell_type": "markdown",
   "id": "681c2de5-700e-478d-9ec3-1871772e2782",
   "metadata": {},
   "source": [
    "1.Describe the role of the `return` statement in Python functions and provide examples."
   ]
  },
  {
   "cell_type": "code",
   "execution_count": 32,
   "id": "79e96bed-20fd-4514-af81-7bf942720bfb",
   "metadata": {},
   "outputs": [
    {
     "name": "stdout",
     "output_type": "stream",
     "text": [
      "4\n",
      "True\n"
     ]
    }
   ],
   "source": [
    "'''\n",
    "*The return statement is used to exit a function and optionally return a value back to the caller.\n",
    "*When Python encounters a return statement inside a function,it immediately exits the function and returns control to the caller.\n",
    "*The return statement can optionally be followed by an expression, which is evaluated and returned to the caller as the result of the function call.\n",
    "*The returned value can be of any data type in Python, including numbers, strings, lists, tuples, dictionaries, or even custom objects.\n",
    "'''\n",
    "#example\n",
    "\n",
    "#1.return result\n",
    "def add(a,b):\n",
    "    return a+b\n",
    "print(add(2,2))\n",
    "#2.Early return, returns boolean value\n",
    "def is_even(num):\n",
    "    return num % 2 == 0\n",
    "print(is_even(6))"
   ]
  },
  {
   "cell_type": "markdown",
   "id": "2a3de909-3b90-43c1-9b07-c0670c177412",
   "metadata": {},
   "source": [
    "2.Explain the concept of variable scope in Python, including local and global variables."
   ]
  },
  {
   "cell_type": "code",
   "execution_count": 60,
   "id": "3a56c64f-1d28-4449-8cc4-13817f8e4c23",
   "metadata": {},
   "outputs": [
    {
     "name": "stdout",
     "output_type": "stream",
     "text": [
      "10\n",
      "Global variable 10\n",
      "Cant access local variable inside the function\n"
     ]
    }
   ],
   "source": [
    "'''\n",
    "*Variable scope refers to the region of a program where a particular variable is accessible. \n",
    "In Python, variables can have either local or global scope.\n",
    "Local Variables:\n",
    "*Local variables are defined within a function and are accessible only within that function.\n",
    "*They are created when the function is called and destroyed when the function exits.\n",
    "*Local variables cannot be accessed from outside the function in which they are defined.\n",
    "\n",
    "Global Variables:\n",
    "*Global variables are defined outside of any function and are accessible throughout the entire program.\n",
    "*They can be accessed from any part of the program, including inside functions.\n",
    "'''\n",
    "#eg.\n",
    "def local():\n",
    "    x = 10\n",
    "    print(x)\n",
    "local()\n",
    "\n",
    "y = 10\n",
    "print('Global variable',y)\n",
    "try:\n",
    "    print(x)\n",
    "except:\n",
    "    print('Cant access local variable inside the function')"
   ]
  },
  {
   "cell_type": "markdown",
   "id": "593ab648-9f0a-4a9c-8423-085dbc699ca4",
   "metadata": {},
   "source": [
    "3.Write a Python program that demonstrates the use of global variables within functions."
   ]
  },
  {
   "cell_type": "code",
   "execution_count": 61,
   "id": "cc20e24f-4f35-4df2-b74a-f3aaa2288b3e",
   "metadata": {},
   "outputs": [
    {
     "name": "stdout",
     "output_type": "stream",
     "text": [
      "Initial global variable value: 10\n",
      "Inside modify_global function: 15\n",
      "Inside access_global function: 15\n"
     ]
    }
   ],
   "source": [
    "global_var = 10\n",
    "\n",
    "def modify_global():\n",
    "    global global_var\n",
    "    global_var += 5\n",
    "    print(\"Inside modify_global function:\", global_var)\n",
    "\n",
    "def access_global():\n",
    "    print(\"Inside access_global function:\", global_var)\n",
    "\n",
    "print(\"Initial global variable value:\", global_var)\n",
    "modify_global()\n",
    "access_global()"
   ]
  },
  {
   "cell_type": "markdown",
   "id": "12dc40bb-c56f-4b5f-a220-28f59e8c343a",
   "metadata": {},
   "source": [
    "4.Create a Python function that calculates the factorial of a number and returns it."
   ]
  },
  {
   "cell_type": "code",
   "execution_count": 66,
   "id": "70c7820a-5f88-4612-9c5d-3b1935715af9",
   "metadata": {},
   "outputs": [
    {
     "data": {
      "text/plain": [
       "120"
      ]
     },
     "execution_count": 66,
     "metadata": {},
     "output_type": "execute_result"
    }
   ],
   "source": [
    "def factorial(n):\n",
    "    if n <= 1:\n",
    "        return 1\n",
    "    result = 1\n",
    "    for i in range(1,n+1):\n",
    "        result *= i\n",
    "    return result\n",
    "factorial(5)"
   ]
  },
  {
   "cell_type": "markdown",
   "id": "077ed08c-5d9e-4a87-9d3c-c7242b94b45a",
   "metadata": {},
   "source": [
    "5.How can you access variables defined outside a function from within the function?"
   ]
  },
  {
   "cell_type": "code",
   "execution_count": 78,
   "id": "053253ef-4022-4b0d-8bc2-631cb63af1b1",
   "metadata": {},
   "outputs": [
    {
     "name": "stdout",
     "output_type": "stream",
     "text": [
      "modified global variable 15\n",
      "any changes made to it will affect the global variable 15\n",
      "15\n"
     ]
    }
   ],
   "source": [
    "'''\n",
    "Using the global Keyword:\n",
    "*If you want to modify the value of a global variable from within a function, you need to declare it as global. \n",
    "This tells Python that the variable is not local to the function, and any changes made to it will affect the global variable.\n",
    "'''\n",
    "x = 10\n",
    "def access_global():\n",
    "    global x\n",
    "    x += 5\n",
    "    return f'modified global variable {x}'\n",
    "print(access_global())\n",
    "print('any changes made to it will affect the global variable',x)\n",
    "'''\n",
    "Referencing the Variable Name Directly:\n",
    "*If you only want to access the value of a global variable within the function without modifying it, \n",
    "you can simply reference the variable name directly. \n",
    "*Python will automatically look for the variable in the global scope if it's not found in the local scope.\n",
    "'''\n",
    "def access_global1():\n",
    "    return x\n",
    "print(access_global1())"
   ]
  },
  {
   "cell_type": "markdown",
   "id": "2b14f13c-cf9c-40ee-a7bf-1b5c2a1e9d26",
   "metadata": {},
   "source": [
    "Lambda Functions and Higher-Order Functions:"
   ]
  },
  {
   "cell_type": "markdown",
   "id": "eba0841f-20d4-4fcf-9b6d-ad1dc741d507",
   "metadata": {},
   "source": [
    "1.What are lambda functions in Python, and when are they typically used?"
   ]
  },
  {
   "cell_type": "code",
   "execution_count": null,
   "id": "0b6966b6-cf4a-4ab9-bed0-2d0977afb7ab",
   "metadata": {},
   "outputs": [],
   "source": [
    "'''\n",
    "*lambda functions can be defined in a single line and are often used for simple operations \n",
    "where writing a full function definition seems overkill.\n",
    "*Lambda functions are typically used in situations where you need a short function for a short period of time,\n",
    "like when you want to pass a function as an argument to another function(e.g., in map(), filter(), reduce()),\n",
    "or when you want to create a simple callback function.\n",
    "'''"
   ]
  },
  {
   "cell_type": "markdown",
   "id": "bbddbdcf-7b2e-48c9-a2f4-fe35294f0aef",
   "metadata": {},
   "source": [
    "2.Write a Python program that uses lambda functions to sort a list of tuples based on the second element."
   ]
  },
  {
   "cell_type": "code",
   "execution_count": 9,
   "id": "d0b20c9e-ba6f-4451-8b71-9668e953426e",
   "metadata": {},
   "outputs": [
    {
     "name": "stdout",
     "output_type": "stream",
     "text": [
      "Sorted list based on the second element:\n",
      "[(3, 2), (1, 5), (2, 6), (7, 8)]\n"
     ]
    }
   ],
   "source": [
    "data = [(1, 5), (3, 2), (7, 8), (2, 6)]\n",
    "sorted_data = sorted(data, key=lambda x: x[1])\n",
    "print(\"Sorted list based on the second element:\")\n",
    "print(sorted_data)"
   ]
  },
  {
   "cell_type": "markdown",
   "id": "0b3bf773-f54b-4f82-a0a2-3726063c498a",
   "metadata": {},
   "source": [
    "3.Explain the concept of higher-order functions in Python, and provide an example."
   ]
  },
  {
   "cell_type": "code",
   "execution_count": 11,
   "id": "e4ec2478-deca-4b36-93ef-6ab635317d15",
   "metadata": {},
   "outputs": [
    {
     "name": "stdout",
     "output_type": "stream",
     "text": [
      "15\n",
      "5\n",
      "50\n"
     ]
    }
   ],
   "source": [
    "'''\n",
    "*functions are first-class citizens, which means they can be treated just like any other object. \n",
    "This allows functions to be passed as arguments to other functions, returned as values from other functions, and assigned to variables.\n",
    "Functions that either take other functions as arguments or return functions as results are called higher-order functions.\n",
    "*Functions as Parameters: \n",
    "Higher-order functions can accept other functions as arguments. This allows for greater flexibility and modularity in code, \n",
    "as functions can be customized based on the requirements of the caller.\n",
    "\n",
    "*Functions as Return Values: \n",
    "Higher-order functions can also return functions as results. This can be useful for creating specialized functions or for implementing\n",
    "certain design patterns like factory functions or decorators.\n",
    "'''\n",
    "def add(a,b):\n",
    "    return a+b\n",
    "def sub(a,b):\n",
    "    return a-b\n",
    "def multi(a,b):\n",
    "    return a*b\n",
    "\n",
    "def function(operation, a, b):\n",
    "    return operation(a,b)\n",
    "\n",
    "print(function(add,10,5))\n",
    "print(function(sub,10,5))\n",
    "print(function(multi,10,5))"
   ]
  },
  {
   "cell_type": "markdown",
   "id": "7a7f5f50-a7b6-42d3-b093-09fd768ae7d1",
   "metadata": {},
   "source": [
    "4.Create a Python function that takes a list of numbers and a function as arguments, applying the function to each element in the list."
   ]
  },
  {
   "cell_type": "code",
   "execution_count": 23,
   "id": "a07c2db8-d9bc-4024-b1d3-f43431a40a90",
   "metadata": {},
   "outputs": [
    {
     "name": "stdout",
     "output_type": "stream",
     "text": [
      "[4, 16, 36, 625]\n",
      "[1.4142135623730951, 2.0, 2.449489742783178, 5.0]\n"
     ]
    }
   ],
   "source": [
    "def apply_funciton(lst, function):\n",
    "    return [function(x) for x in lst]\n",
    "def square(n):\n",
    "    return n * n\n",
    "def root(n):\n",
    "    return n ** 0.5\n",
    "lst = [2,4,6,25]\n",
    "print(apply_funciton(lst, square))\n",
    "print(apply_funciton(lst, root))"
   ]
  },
  {
   "cell_type": "markdown",
   "id": "2c0b892b-6faf-4a86-a523-d97e73c2d810",
   "metadata": {},
   "source": [
    "Built-in Functions:"
   ]
  },
  {
   "cell_type": "markdown",
   "id": "7a3bb363-0f55-4ca3-8ea1-c54b2d275e8a",
   "metadata": {},
   "source": [
    "1.Describe the role of built-in functions like `len()`, `max()`, and `min()` in Python."
   ]
  },
  {
   "cell_type": "code",
   "execution_count": null,
   "id": "7c0c6121-24b2-476f-9431-24ea9ab468f7",
   "metadata": {},
   "outputs": [],
   "source": [
    "'''\n",
    "len()function is used to find length of the list.\n",
    "max()function is used to find maximum value in a list.\n",
    "min()funtion is used to find minimum value in a list.\n",
    "'''"
   ]
  },
  {
   "cell_type": "markdown",
   "id": "372e16a4-d3b5-4bd4-90fd-b3d6a9457015",
   "metadata": {},
   "source": [
    "2.Write a Python program that uses the `map()` function to apply a function to each element of a list."
   ]
  },
  {
   "cell_type": "code",
   "execution_count": 24,
   "id": "eb50cfc7-a63d-4bc5-84ed-95b981e97105",
   "metadata": {},
   "outputs": [
    {
     "name": "stdout",
     "output_type": "stream",
     "text": [
      "[4, 16, 25, 36, 49]\n"
     ]
    }
   ],
   "source": [
    "def square(n):\n",
    "    return n * n\n",
    "lst = [2,4,5,6,7]\n",
    "print(list(map(square,lst)))"
   ]
  },
  {
   "cell_type": "markdown",
   "id": "b7682105-b47d-4f85-be0a-5089e8e903b7",
   "metadata": {},
   "source": [
    "3.How does the `filter()` function work in Python, and when would you use it?"
   ]
  },
  {
   "cell_type": "code",
   "execution_count": null,
   "id": "20cad293-ee1a-49c6-8feb-36b5fae6b2a1",
   "metadata": {},
   "outputs": [],
   "source": [
    "'''\n",
    "*The filter() function in Python is used to filter elements from an iterable (such as a list) based on a given condition.\n",
    "It takes two arguments: a function that defines the filtering condition and an iterable object to be filtered.\n",
    "\n",
    "*The filter() function is useful in scenarios where you need to selectively extract elements from an iterable\n",
    "based on a specific condition. Here are some common situations where you might use the filter() function:\n",
    "*Data Filtering \n",
    "*Data Cleaning \n",
    "*Conditiolal Processing\n",
    "*Functional Programming\n",
    "'''"
   ]
  },
  {
   "cell_type": "markdown",
   "id": "34a60e9c-3c2d-44f0-a18f-b85cea9fd4ec",
   "metadata": {},
   "source": [
    "4.Create a Python program that uses the `reduce()` function to find the product of all elements in a list."
   ]
  },
  {
   "cell_type": "code",
   "execution_count": 28,
   "id": "b590f48f-3c33-424e-a9bd-c431eed038f2",
   "metadata": {},
   "outputs": [
    {
     "name": "stdout",
     "output_type": "stream",
     "text": [
      "120\n"
     ]
    }
   ],
   "source": [
    "from functools import reduce\n",
    "lst = [1,2,3,4,5]\n",
    "print(reduce(lambda x,y : x*y,lst))"
   ]
  },
  {
   "cell_type": "markdown",
   "id": "d8880320-4eb9-4d95-92ff-648e713cfc19",
   "metadata": {},
   "source": [
    "Function Documentation and Best Practices:"
   ]
  },
  {
   "cell_type": "markdown",
   "id": "324233ab-ca0c-450b-9173-d5df15338f5e",
   "metadata": {},
   "source": [
    "1.Explain the purpose of docstrings in Python functions and how to write them."
   ]
  },
  {
   "cell_type": "code",
   "execution_count": 33,
   "id": "918e232d-7efc-4699-b993-f3a1ea859cee",
   "metadata": {},
   "outputs": [],
   "source": [
    "'''\n",
    "*Docstrings in Python are used to provide documentation for functions, classes, modules, or methods. \n",
    "They serve as a way to describe what the function does, what arguments it takes, what it returns, \n",
    "and any other relevant information that users of the function might need to know. \n",
    "Docstrings are a form of inline documentation that can be accessed using Python's built-in help \n",
    "system or documentation tools like Sphinx.\n",
    "'''\n",
    "def add(value1,value2):\n",
    "    \"\"\"\n",
    "    It takes Two parameters\n",
    "    Return the addition of a two numbers\n",
    "\n",
    "    This function is intended specifically for use with numeric values and may\n",
    "    reject non-numeric types.\n",
    "    \"\"\"\n",
    "    return a + b"
   ]
  },
  {
   "cell_type": "markdown",
   "id": "d49389fb-fbe8-4100-b185-8f9f378f5ffb",
   "metadata": {},
   "source": [
    "2.Describe some best practices for naming functions and variables in Python, including naming conventions and guidelines"
   ]
  },
  {
   "cell_type": "code",
   "execution_count": null,
   "id": "7ff3af51-9686-49d8-a3d2-30d5ab542f5c",
   "metadata": {},
   "outputs": [],
   "source": [
    "'''\n",
    "*Naming functions and variables in Python is crucial for writing readable, maintainable, and understandable code.\n",
    "Following consistent naming conventions and guidelines helps improve code clarity and makes it easier for other developers\n",
    "(and future self) to understand code.\n",
    "*Use Descriptive Names: Choose names that accurately describe the purpose and functionality of the function or variable.\n",
    "Names should be meaningful and self-explanatory.\n",
    "*Use CamelCase for Function Names: Use CamelCase (also known as CapWords) for naming functions.\n",
    "Start the name with a lowercase letter and capitalize the first letter of each subsequent word.\n",
    "*Use lowercase_with_underscores for Variable Names: Use lowercase letters with underscores to separate words in variable names. \n",
    "This convention is also known as snake_case.\n",
    "*Avoid Single-letter Names: Avoid using single-letter variable names except for loop variables (i, j, k, etc.).\n",
    "Use descriptive names that convey the purpose of the variable.\n",
    "*Consider PEP 8: Follow the guidelines outlined in Python's PEP 8 style guide for naming conventions and code formatting.\n",
    "PEP 8 provides recommendations and best practices for writing Python code, including naming conventions.\n",
    "'''\n"
   ]
  }
 ],
 "metadata": {
  "kernelspec": {
   "display_name": "Python 3 (ipykernel)",
   "language": "python",
   "name": "python3"
  },
  "language_info": {
   "codemirror_mode": {
    "name": "ipython",
    "version": 3
   },
   "file_extension": ".py",
   "mimetype": "text/x-python",
   "name": "python",
   "nbconvert_exporter": "python",
   "pygments_lexer": "ipython3",
   "version": "3.10.8"
  }
 },
 "nbformat": 4,
 "nbformat_minor": 5
}
